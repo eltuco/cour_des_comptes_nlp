{
 "cells": [
  {
   "cell_type": "code",
   "execution_count": 1,
   "id": "4e288ae5-e0ad-4544-8afe-f671c19952ff",
   "metadata": {},
   "outputs": [],
   "source": [
    "import numpy as np\n",
    "import pandas as pd\n",
    "import string\n",
    "import seaborn as sns\n",
    "import altair as alt\n",
    "#import vega\n",
    "import regex as re\n",
    "alt.__version__\n",
    "\n",
    "import matplotlib.pyplot as plt\n",
    "from pylab import rcParams\n",
    "rcParams['figure.figsize'] = 16, 8\n",
    "%matplotlib inline\n",
    "\n",
    "import IPython; IPython.__version__\n",
    "alt.data_transformers.disable_max_rows()\n",
    "\n",
    "import warnings\n",
    "warnings.filterwarnings('ignore')\n",
    "warnings.simplefilter('ignore')"
   ]
  },
  {
   "cell_type": "code",
   "execution_count": 8,
   "id": "068d7b42-9f3b-46d5-8875-fe6418f47256",
   "metadata": {},
   "outputs": [
    {
     "ename": "FileNotFoundError",
     "evalue": "[Errno 2] No such file or directory: './data/raw/2022_BDD_contributions_citoyennes.xlsx'",
     "output_type": "error",
     "traceback": [
      "\u001b[0;31m---------------------------------------------------------------------------\u001b[0m",
      "\u001b[0;31mFileNotFoundError\u001b[0m                         Traceback (most recent call last)",
      "Cell \u001b[0;32mIn [8], line 1\u001b[0m\n\u001b[0;32m----> 1\u001b[0m raw_data \u001b[38;5;241m=\u001b[39m \u001b[43mpd\u001b[49m\u001b[38;5;241;43m.\u001b[39;49m\u001b[43mread_excel\u001b[49m\u001b[43m(\u001b[49m\u001b[38;5;124;43mr\u001b[39;49m\u001b[38;5;124;43m'\u001b[39;49m\u001b[38;5;124;43m./data/raw/2022_BDD_contributions_citoyennes.xlsx\u001b[39;49m\u001b[38;5;124;43m'\u001b[39;49m\u001b[43m,\u001b[49m\u001b[43m \u001b[49m\u001b[38;5;124;43m'\u001b[39;49m\u001b[38;5;124;43mBDD\u001b[39;49m\u001b[38;5;124;43m'\u001b[39;49m\u001b[43m)\u001b[49m\n\u001b[1;32m      2\u001b[0m \u001b[38;5;28mprint\u001b[39m(\u001b[38;5;124m\"\u001b[39m\u001b[38;5;124mIl y a \u001b[39m\u001b[38;5;132;01m{}\u001b[39;00m\u001b[38;5;124m lignes et \u001b[39m\u001b[38;5;132;01m{}\u001b[39;00m\u001b[38;5;124m colonnes dans le dataset\u001b[39m\u001b[38;5;124m\"\u001b[39m\u001b[38;5;241m.\u001b[39mformat(raw_data\u001b[38;5;241m.\u001b[39mshape[\u001b[38;5;241m0\u001b[39m],raw_data\u001b[38;5;241m.\u001b[39mshape[\u001b[38;5;241m1\u001b[39m]))\n",
      "File \u001b[0;32m/opt/anaconda3/lib/python3.8/site-packages/pandas/util/_decorators.py:211\u001b[0m, in \u001b[0;36mdeprecate_kwarg.<locals>._deprecate_kwarg.<locals>.wrapper\u001b[0;34m(*args, **kwargs)\u001b[0m\n\u001b[1;32m    209\u001b[0m     \u001b[38;5;28;01melse\u001b[39;00m:\n\u001b[1;32m    210\u001b[0m         kwargs[new_arg_name] \u001b[38;5;241m=\u001b[39m new_arg_value\n\u001b[0;32m--> 211\u001b[0m \u001b[38;5;28;01mreturn\u001b[39;00m \u001b[43mfunc\u001b[49m\u001b[43m(\u001b[49m\u001b[38;5;241;43m*\u001b[39;49m\u001b[43margs\u001b[49m\u001b[43m,\u001b[49m\u001b[43m \u001b[49m\u001b[38;5;241;43m*\u001b[39;49m\u001b[38;5;241;43m*\u001b[39;49m\u001b[43mkwargs\u001b[49m\u001b[43m)\u001b[49m\n",
      "File \u001b[0;32m/opt/anaconda3/lib/python3.8/site-packages/pandas/util/_decorators.py:331\u001b[0m, in \u001b[0;36mdeprecate_nonkeyword_arguments.<locals>.decorate.<locals>.wrapper\u001b[0;34m(*args, **kwargs)\u001b[0m\n\u001b[1;32m    325\u001b[0m \u001b[38;5;28;01mif\u001b[39;00m \u001b[38;5;28mlen\u001b[39m(args) \u001b[38;5;241m>\u001b[39m num_allow_args:\n\u001b[1;32m    326\u001b[0m     warnings\u001b[38;5;241m.\u001b[39mwarn(\n\u001b[1;32m    327\u001b[0m         msg\u001b[38;5;241m.\u001b[39mformat(arguments\u001b[38;5;241m=\u001b[39m_format_argument_list(allow_args)),\n\u001b[1;32m    328\u001b[0m         \u001b[38;5;167;01mFutureWarning\u001b[39;00m,\n\u001b[1;32m    329\u001b[0m         stacklevel\u001b[38;5;241m=\u001b[39mfind_stack_level(),\n\u001b[1;32m    330\u001b[0m     )\n\u001b[0;32m--> 331\u001b[0m \u001b[38;5;28;01mreturn\u001b[39;00m \u001b[43mfunc\u001b[49m\u001b[43m(\u001b[49m\u001b[38;5;241;43m*\u001b[39;49m\u001b[43margs\u001b[49m\u001b[43m,\u001b[49m\u001b[43m \u001b[49m\u001b[38;5;241;43m*\u001b[39;49m\u001b[38;5;241;43m*\u001b[39;49m\u001b[43mkwargs\u001b[49m\u001b[43m)\u001b[49m\n",
      "File \u001b[0;32m/opt/anaconda3/lib/python3.8/site-packages/pandas/io/excel/_base.py:482\u001b[0m, in \u001b[0;36mread_excel\u001b[0;34m(io, sheet_name, header, names, index_col, usecols, squeeze, dtype, engine, converters, true_values, false_values, skiprows, nrows, na_values, keep_default_na, na_filter, verbose, parse_dates, date_parser, thousands, decimal, comment, skipfooter, convert_float, mangle_dupe_cols, storage_options)\u001b[0m\n\u001b[1;32m    480\u001b[0m \u001b[38;5;28;01mif\u001b[39;00m \u001b[38;5;129;01mnot\u001b[39;00m \u001b[38;5;28misinstance\u001b[39m(io, ExcelFile):\n\u001b[1;32m    481\u001b[0m     should_close \u001b[38;5;241m=\u001b[39m \u001b[38;5;28;01mTrue\u001b[39;00m\n\u001b[0;32m--> 482\u001b[0m     io \u001b[38;5;241m=\u001b[39m \u001b[43mExcelFile\u001b[49m\u001b[43m(\u001b[49m\u001b[43mio\u001b[49m\u001b[43m,\u001b[49m\u001b[43m \u001b[49m\u001b[43mstorage_options\u001b[49m\u001b[38;5;241;43m=\u001b[39;49m\u001b[43mstorage_options\u001b[49m\u001b[43m,\u001b[49m\u001b[43m \u001b[49m\u001b[43mengine\u001b[49m\u001b[38;5;241;43m=\u001b[39;49m\u001b[43mengine\u001b[49m\u001b[43m)\u001b[49m\n\u001b[1;32m    483\u001b[0m \u001b[38;5;28;01melif\u001b[39;00m engine \u001b[38;5;129;01mand\u001b[39;00m engine \u001b[38;5;241m!=\u001b[39m io\u001b[38;5;241m.\u001b[39mengine:\n\u001b[1;32m    484\u001b[0m     \u001b[38;5;28;01mraise\u001b[39;00m \u001b[38;5;167;01mValueError\u001b[39;00m(\n\u001b[1;32m    485\u001b[0m         \u001b[38;5;124m\"\u001b[39m\u001b[38;5;124mEngine should not be specified when passing \u001b[39m\u001b[38;5;124m\"\u001b[39m\n\u001b[1;32m    486\u001b[0m         \u001b[38;5;124m\"\u001b[39m\u001b[38;5;124man ExcelFile - ExcelFile already has the engine set\u001b[39m\u001b[38;5;124m\"\u001b[39m\n\u001b[1;32m    487\u001b[0m     )\n",
      "File \u001b[0;32m/opt/anaconda3/lib/python3.8/site-packages/pandas/io/excel/_base.py:1652\u001b[0m, in \u001b[0;36mExcelFile.__init__\u001b[0;34m(self, path_or_buffer, engine, storage_options)\u001b[0m\n\u001b[1;32m   1650\u001b[0m     ext \u001b[38;5;241m=\u001b[39m \u001b[38;5;124m\"\u001b[39m\u001b[38;5;124mxls\u001b[39m\u001b[38;5;124m\"\u001b[39m\n\u001b[1;32m   1651\u001b[0m \u001b[38;5;28;01melse\u001b[39;00m:\n\u001b[0;32m-> 1652\u001b[0m     ext \u001b[38;5;241m=\u001b[39m \u001b[43minspect_excel_format\u001b[49m\u001b[43m(\u001b[49m\n\u001b[1;32m   1653\u001b[0m \u001b[43m        \u001b[49m\u001b[43mcontent_or_path\u001b[49m\u001b[38;5;241;43m=\u001b[39;49m\u001b[43mpath_or_buffer\u001b[49m\u001b[43m,\u001b[49m\u001b[43m \u001b[49m\u001b[43mstorage_options\u001b[49m\u001b[38;5;241;43m=\u001b[39;49m\u001b[43mstorage_options\u001b[49m\n\u001b[1;32m   1654\u001b[0m \u001b[43m    \u001b[49m\u001b[43m)\u001b[49m\n\u001b[1;32m   1655\u001b[0m     \u001b[38;5;28;01mif\u001b[39;00m ext \u001b[38;5;129;01mis\u001b[39;00m \u001b[38;5;28;01mNone\u001b[39;00m:\n\u001b[1;32m   1656\u001b[0m         \u001b[38;5;28;01mraise\u001b[39;00m \u001b[38;5;167;01mValueError\u001b[39;00m(\n\u001b[1;32m   1657\u001b[0m             \u001b[38;5;124m\"\u001b[39m\u001b[38;5;124mExcel file format cannot be determined, you must specify \u001b[39m\u001b[38;5;124m\"\u001b[39m\n\u001b[1;32m   1658\u001b[0m             \u001b[38;5;124m\"\u001b[39m\u001b[38;5;124man engine manually.\u001b[39m\u001b[38;5;124m\"\u001b[39m\n\u001b[1;32m   1659\u001b[0m         )\n",
      "File \u001b[0;32m/opt/anaconda3/lib/python3.8/site-packages/pandas/io/excel/_base.py:1525\u001b[0m, in \u001b[0;36minspect_excel_format\u001b[0;34m(content_or_path, storage_options)\u001b[0m\n\u001b[1;32m   1522\u001b[0m \u001b[38;5;28;01mif\u001b[39;00m \u001b[38;5;28misinstance\u001b[39m(content_or_path, \u001b[38;5;28mbytes\u001b[39m):\n\u001b[1;32m   1523\u001b[0m     content_or_path \u001b[38;5;241m=\u001b[39m BytesIO(content_or_path)\n\u001b[0;32m-> 1525\u001b[0m \u001b[38;5;28;01mwith\u001b[39;00m \u001b[43mget_handle\u001b[49m\u001b[43m(\u001b[49m\n\u001b[1;32m   1526\u001b[0m \u001b[43m    \u001b[49m\u001b[43mcontent_or_path\u001b[49m\u001b[43m,\u001b[49m\u001b[43m \u001b[49m\u001b[38;5;124;43m\"\u001b[39;49m\u001b[38;5;124;43mrb\u001b[39;49m\u001b[38;5;124;43m\"\u001b[39;49m\u001b[43m,\u001b[49m\u001b[43m \u001b[49m\u001b[43mstorage_options\u001b[49m\u001b[38;5;241;43m=\u001b[39;49m\u001b[43mstorage_options\u001b[49m\u001b[43m,\u001b[49m\u001b[43m \u001b[49m\u001b[43mis_text\u001b[49m\u001b[38;5;241;43m=\u001b[39;49m\u001b[38;5;28;43;01mFalse\u001b[39;49;00m\n\u001b[1;32m   1527\u001b[0m \u001b[43m\u001b[49m\u001b[43m)\u001b[49m \u001b[38;5;28;01mas\u001b[39;00m handle:\n\u001b[1;32m   1528\u001b[0m     stream \u001b[38;5;241m=\u001b[39m handle\u001b[38;5;241m.\u001b[39mhandle\n\u001b[1;32m   1529\u001b[0m     stream\u001b[38;5;241m.\u001b[39mseek(\u001b[38;5;241m0\u001b[39m)\n",
      "File \u001b[0;32m/opt/anaconda3/lib/python3.8/site-packages/pandas/io/common.py:865\u001b[0m, in \u001b[0;36mget_handle\u001b[0;34m(path_or_buf, mode, encoding, compression, memory_map, is_text, errors, storage_options)\u001b[0m\n\u001b[1;32m    856\u001b[0m         handle \u001b[38;5;241m=\u001b[39m \u001b[38;5;28mopen\u001b[39m(\n\u001b[1;32m    857\u001b[0m             handle,\n\u001b[1;32m    858\u001b[0m             ioargs\u001b[38;5;241m.\u001b[39mmode,\n\u001b[0;32m   (...)\u001b[0m\n\u001b[1;32m    861\u001b[0m             newline\u001b[38;5;241m=\u001b[39m\u001b[38;5;124m\"\u001b[39m\u001b[38;5;124m\"\u001b[39m,\n\u001b[1;32m    862\u001b[0m         )\n\u001b[1;32m    863\u001b[0m     \u001b[38;5;28;01melse\u001b[39;00m:\n\u001b[1;32m    864\u001b[0m         \u001b[38;5;66;03m# Binary mode\u001b[39;00m\n\u001b[0;32m--> 865\u001b[0m         handle \u001b[38;5;241m=\u001b[39m \u001b[38;5;28;43mopen\u001b[39;49m\u001b[43m(\u001b[49m\u001b[43mhandle\u001b[49m\u001b[43m,\u001b[49m\u001b[43m \u001b[49m\u001b[43mioargs\u001b[49m\u001b[38;5;241;43m.\u001b[39;49m\u001b[43mmode\u001b[49m\u001b[43m)\u001b[49m\n\u001b[1;32m    866\u001b[0m     handles\u001b[38;5;241m.\u001b[39mappend(handle)\n\u001b[1;32m    868\u001b[0m \u001b[38;5;66;03m# Convert BytesIO or file objects passed with an encoding\u001b[39;00m\n",
      "\u001b[0;31mFileNotFoundError\u001b[0m: [Errno 2] No such file or directory: './data/raw/2022_BDD_contributions_citoyennes.xlsx'"
     ]
    }
   ],
   "source": [
    "raw_data = pd.read_excel(r'./data/raw/2022_BDD_contributions_citoyennes.xlsx', 'BDD')\n",
    "print(\"Il y a {} lignes et {} colonnes dans le dataset\".format(raw_data.shape[0],raw_data.shape[1]))"
   ]
  },
  {
   "cell_type": "code",
   "execution_count": 3,
   "id": "bd92ead2-1632-484c-bff2-dbc857534c51",
   "metadata": {
    "tags": []
   },
   "outputs": [],
   "source": [
    "# noramalisation des titres de colonnes\n",
    "raw_data.columns = (raw_data.columns.str.strip()\n",
    "                    .str.lower()\n",
    "                    .str.replace(' ', '_', regex = True)\n",
    "                    .str.replace('(', '', regex = True)\n",
    "                    .str.replace(')', '', regex = True))"
   ]
  },
  {
   "cell_type": "code",
   "execution_count": 4,
   "id": "bc2c022e-17c3-4c23-a6aa-c0f21ce9598e",
   "metadata": {
    "tags": []
   },
   "outputs": [
    {
     "data": {
      "text/html": [
       "<div>\n",
       "<style scoped>\n",
       "    .dataframe tbody tr th:only-of-type {\n",
       "        vertical-align: middle;\n",
       "    }\n",
       "\n",
       "    .dataframe tbody tr th {\n",
       "        vertical-align: top;\n",
       "    }\n",
       "\n",
       "    .dataframe thead th {\n",
       "        text-align: right;\n",
       "    }\n",
       "</style>\n",
       "<table border=\"1\" class=\"dataframe\">\n",
       "  <thead>\n",
       "    <tr style=\"text-align: right;\">\n",
       "      <th></th>\n",
       "      <th>titre</th>\n",
       "      <th>corps</th>\n",
       "      <th>nombre_de_commentaires</th>\n",
       "      <th>nombre_de_soutiens</th>\n",
       "      <th>nombre_d'abonnements</th>\n",
       "      <th>catégorie</th>\n",
       "      <th>commentaires_associés_à_la_proposition</th>\n",
       "      <th>unnamed:_7</th>\n",
       "      <th>unnamed:_8</th>\n",
       "      <th>unnamed:_9</th>\n",
       "      <th>...</th>\n",
       "      <th>unnamed:_110</th>\n",
       "      <th>unnamed:_111</th>\n",
       "      <th>unnamed:_112</th>\n",
       "      <th>unnamed:_113</th>\n",
       "      <th>unnamed:_114</th>\n",
       "      <th>unnamed:_115</th>\n",
       "      <th>unnamed:_116</th>\n",
       "      <th>unnamed:_117</th>\n",
       "      <th>unnamed:_118</th>\n",
       "      <th>unnamed:_119</th>\n",
       "    </tr>\n",
       "  </thead>\n",
       "  <tbody>\n",
       "    <tr>\n",
       "      <th>0</th>\n",
       "      <td>Enquêter sur les moyens humains et financiers ...</td>\n",
       "      <td>À l’heure du réchauffement climatique débridé ...</td>\n",
       "      <td>97</td>\n",
       "      <td>1825</td>\n",
       "      <td>260</td>\n",
       "      <td>Environnement, agriculture et mer</td>\n",
       "      <td>Je partage ce point et ici on ne parle que d'u...</td>\n",
       "      <td>Préservons la mer qui loin de toute surveillan...</td>\n",
       "      <td>Que l'on arrête de nous mentir !! La protectio...</td>\n",
       "      <td>La protection des océans doit être notre prior...</td>\n",
       "      <td>...</td>\n",
       "      <td>NaN</td>\n",
       "      <td>NaN</td>\n",
       "      <td>NaN</td>\n",
       "      <td>NaN</td>\n",
       "      <td>NaN</td>\n",
       "      <td>NaN</td>\n",
       "      <td>NaN</td>\n",
       "      <td>NaN</td>\n",
       "      <td>NaN</td>\n",
       "      <td>NaN</td>\n",
       "    </tr>\n",
       "    <tr>\n",
       "      <th>1</th>\n",
       "      <td>Enquêter sur l’administration des données de s...</td>\n",
       "      <td>Après avoir épuisé tous les recours pour obten...</td>\n",
       "      <td>90</td>\n",
       "      <td>1293</td>\n",
       "      <td>231</td>\n",
       "      <td>Finances publiques &amp; fiscalité</td>\n",
       "      <td>Les citoyen ont le droit de savoir.  Ces obsta...</td>\n",
       "      <td>Quand on a rien à se reprocher, on a rien à ca...</td>\n",
       "      <td>Honte absolue de l'administration qui refuse d...</td>\n",
       "      <td>Et on s’étonne que le citoyen n’ai plus confia...</td>\n",
       "      <td>...</td>\n",
       "      <td>NaN</td>\n",
       "      <td>NaN</td>\n",
       "      <td>NaN</td>\n",
       "      <td>NaN</td>\n",
       "      <td>NaN</td>\n",
       "      <td>NaN</td>\n",
       "      <td>NaN</td>\n",
       "      <td>NaN</td>\n",
       "      <td>NaN</td>\n",
       "      <td>NaN</td>\n",
       "    </tr>\n",
       "    <tr>\n",
       "      <th>2</th>\n",
       "      <td>L'argent public destiné aux fédérations de cha...</td>\n",
       "      <td>Chaque année en France, des millions d'euros d...</td>\n",
       "      <td>114</td>\n",
       "      <td>1164</td>\n",
       "      <td>271</td>\n",
       "      <td>Environnement, agriculture et mer</td>\n",
       "      <td>La chasse est un pseudo loisir consistant à tu...</td>\n",
       "      <td>Pour préserver la faune sauvage, mieux vaut do...</td>\n",
       "      <td>Il est essentiel de contrôler l'usage qui est ...</td>\n",
       "      <td>Activité de « loisirs » consistant à tuer des ...</td>\n",
       "      <td>...</td>\n",
       "      <td>Pourquoi ne pas financer les dealeur.</td>\n",
       "      <td>Si les chasseurs \"limitaient\" les populations ...</td>\n",
       "      <td>Je n’ai absolument aucun avis sur le sujet mai...</td>\n",
       "      <td>Pardon mais je cherche encore le moindre rappo...</td>\n",
       "      <td>En France, la chasse + le balltrap c'est entre...</td>\n",
       "      <td>Il est intolérable que l'argent public finance...</td>\n",
       "      <td>J'ai déjà publié plusieurs commentaires sur ce...</td>\n",
       "      <td>SUITE : . Mais les soi-disant \"premiers écolog...</td>\n",
       "      <td>, des agents des parcs nationaux, de l'ONF, ma...</td>\n",
       "      <td>Plus étonnant encore, l'Etat a aussi concouru ...</td>\n",
       "    </tr>\n",
       "  </tbody>\n",
       "</table>\n",
       "<p>3 rows × 120 columns</p>\n",
       "</div>"
      ],
      "text/plain": [
       "                                               titre  \\\n",
       "0  Enquêter sur les moyens humains et financiers ...   \n",
       "1  Enquêter sur l’administration des données de s...   \n",
       "2  L'argent public destiné aux fédérations de cha...   \n",
       "\n",
       "                                               corps  nombre_de_commentaires  \\\n",
       "0  À l’heure du réchauffement climatique débridé ...                      97   \n",
       "1  Après avoir épuisé tous les recours pour obten...                      90   \n",
       "2  Chaque année en France, des millions d'euros d...                     114   \n",
       "\n",
       "   nombre_de_soutiens  nombre_d'abonnements  \\\n",
       "0                1825                   260   \n",
       "1                1293                   231   \n",
       "2                1164                   271   \n",
       "\n",
       "                           catégorie  \\\n",
       "0  Environnement, agriculture et mer   \n",
       "1     Finances publiques & fiscalité   \n",
       "2  Environnement, agriculture et mer   \n",
       "\n",
       "              commentaires_associés_à_la_proposition  \\\n",
       "0  Je partage ce point et ici on ne parle que d'u...   \n",
       "1  Les citoyen ont le droit de savoir.  Ces obsta...   \n",
       "2  La chasse est un pseudo loisir consistant à tu...   \n",
       "\n",
       "                                          unnamed:_7  \\\n",
       "0  Préservons la mer qui loin de toute surveillan...   \n",
       "1  Quand on a rien à se reprocher, on a rien à ca...   \n",
       "2  Pour préserver la faune sauvage, mieux vaut do...   \n",
       "\n",
       "                                          unnamed:_8  \\\n",
       "0  Que l'on arrête de nous mentir !! La protectio...   \n",
       "1  Honte absolue de l'administration qui refuse d...   \n",
       "2  Il est essentiel de contrôler l'usage qui est ...   \n",
       "\n",
       "                                          unnamed:_9  ...  \\\n",
       "0  La protection des océans doit être notre prior...  ...   \n",
       "1  Et on s’étonne que le citoyen n’ai plus confia...  ...   \n",
       "2  Activité de « loisirs » consistant à tuer des ...  ...   \n",
       "\n",
       "                            unnamed:_110  \\\n",
       "0                                    NaN   \n",
       "1                                    NaN   \n",
       "2  Pourquoi ne pas financer les dealeur.   \n",
       "\n",
       "                                        unnamed:_111  \\\n",
       "0                                                NaN   \n",
       "1                                                NaN   \n",
       "2  Si les chasseurs \"limitaient\" les populations ...   \n",
       "\n",
       "                                        unnamed:_112  \\\n",
       "0                                                NaN   \n",
       "1                                                NaN   \n",
       "2  Je n’ai absolument aucun avis sur le sujet mai...   \n",
       "\n",
       "                                        unnamed:_113  \\\n",
       "0                                                NaN   \n",
       "1                                                NaN   \n",
       "2  Pardon mais je cherche encore le moindre rappo...   \n",
       "\n",
       "                                        unnamed:_114  \\\n",
       "0                                                NaN   \n",
       "1                                                NaN   \n",
       "2  En France, la chasse + le balltrap c'est entre...   \n",
       "\n",
       "                                        unnamed:_115  \\\n",
       "0                                                NaN   \n",
       "1                                                NaN   \n",
       "2  Il est intolérable que l'argent public finance...   \n",
       "\n",
       "                                        unnamed:_116  \\\n",
       "0                                                NaN   \n",
       "1                                                NaN   \n",
       "2  J'ai déjà publié plusieurs commentaires sur ce...   \n",
       "\n",
       "                                        unnamed:_117  \\\n",
       "0                                                NaN   \n",
       "1                                                NaN   \n",
       "2  SUITE : . Mais les soi-disant \"premiers écolog...   \n",
       "\n",
       "                                        unnamed:_118  \\\n",
       "0                                                NaN   \n",
       "1                                                NaN   \n",
       "2  , des agents des parcs nationaux, de l'ONF, ma...   \n",
       "\n",
       "                                        unnamed:_119  \n",
       "0                                                NaN  \n",
       "1                                                NaN  \n",
       "2  Plus étonnant encore, l'Etat a aussi concouru ...  \n",
       "\n",
       "[3 rows x 120 columns]"
      ]
     },
     "execution_count": 4,
     "metadata": {},
     "output_type": "execute_result"
    }
   ],
   "source": [
    "raw_data.head(3)"
   ]
  },
  {
   "cell_type": "code",
   "execution_count": 5,
   "id": "89ef37a9-bb76-4647-8743-d24b0919967f",
   "metadata": {},
   "outputs": [],
   "source": [
    "# transformation des data types\n",
    "\n",
    "## utilisation du datatype category préférable pour les données qui ont peu de modalités différentes --> forte réduction de la mémoire utilisée\n",
    "raw_data['catégorie'] = raw_data['catégorie'].astype(\"category\")\n",
    "\n",
    "## transformation des colonnes datatype object --> string\n",
    "string_cols = raw_data.select_dtypes(include = 'object').columns\n",
    "raw_data[string_cols] = raw_data[string_cols].fillna('').astype(\"string\")\n",
    "\n",
    "## changement de nom de certaines colonnes\n",
    "raw_data = raw_data.rename({\"nombre_d'abonnements\": 'nombre_abonnements', 'catégorie': 'categorie'}, axis=1)"
   ]
  },
  {
   "cell_type": "code",
   "execution_count": 6,
   "id": "0c02723c-a411-4fe0-b9d7-40444eb47a23",
   "metadata": {
    "tags": []
   },
   "outputs": [
    {
     "name": "stdout",
     "output_type": "stream",
     "text": [
      "La colonne titre est de type string\n",
      "La colonne corps est de type string\n",
      "La colonne nombre_de_commentaires est de type int64\n",
      "La colonne nombre_de_soutiens est de type int64\n",
      "La colonne nombre_abonnements est de type int64\n",
      "La colonne categorie est de type category\n",
      "La colonne commentaires_associés_à_la_proposition est de type string\n"
     ]
    }
   ],
   "source": [
    "# vérification des datatypes\n",
    "for column in raw_data.iloc[: , :7]:\n",
    "    print(\"La colonne\", column, \"est de type\", raw_data[column].dtype.name)"
   ]
  },
  {
   "cell_type": "markdown",
   "id": "4cd20e6e-fc60-47aa-a24d-bbde1f6aa268",
   "metadata": {},
   "source": [
    " ### Explorations graphiques"
   ]
  },
  {
   "cell_type": "markdown",
   "id": "a1905901-3c80-41fb-a7c5-c937926d84db",
   "metadata": {},
   "source": [
    "Quelles thématiques (ou catégories) ont généré le plus : \n",
    "  - de contributions\n",
    "  - de commentaires,\n",
    "  - de soutiens,\n",
    "  - d'abonnements"
   ]
  },
  {
   "cell_type": "code",
   "execution_count": 7,
   "id": "24531c27-6655-45b5-8736-a006c13bd3c0",
   "metadata": {
    "tags": []
   },
   "outputs": [
    {
     "data": {
      "text/html": [
       "\n",
       "<div id=\"altair-viz-4b5a39711c0f4785b9fe168a5d006b20\"></div>\n",
       "<script type=\"text/javascript\">\n",
       "  var VEGA_DEBUG = (typeof VEGA_DEBUG == \"undefined\") ? {} : VEGA_DEBUG;\n",
       "  (function(spec, embedOpt){\n",
       "    let outputDiv = document.currentScript.previousElementSibling;\n",
       "    if (outputDiv.id !== \"altair-viz-4b5a39711c0f4785b9fe168a5d006b20\") {\n",
       "      outputDiv = document.getElementById(\"altair-viz-4b5a39711c0f4785b9fe168a5d006b20\");\n",
       "    }\n",
       "    const paths = {\n",
       "      \"vega\": \"https://cdn.jsdelivr.net/npm//vega@5?noext\",\n",
       "      \"vega-lib\": \"https://cdn.jsdelivr.net/npm//vega-lib?noext\",\n",
       "      \"vega-lite\": \"https://cdn.jsdelivr.net/npm//vega-lite@4.17.0?noext\",\n",
       "      \"vega-embed\": \"https://cdn.jsdelivr.net/npm//vega-embed@6?noext\",\n",
       "    };\n",
       "\n",
       "    function maybeLoadScript(lib, version) {\n",
       "      var key = `${lib.replace(\"-\", \"\")}_version`;\n",
       "      return (VEGA_DEBUG[key] == version) ?\n",
       "        Promise.resolve(paths[lib]) :\n",
       "        new Promise(function(resolve, reject) {\n",
       "          var s = document.createElement('script');\n",
       "          document.getElementsByTagName(\"head\")[0].appendChild(s);\n",
       "          s.async = true;\n",
       "          s.onload = () => {\n",
       "            VEGA_DEBUG[key] = version;\n",
       "            return resolve(paths[lib]);\n",
       "          };\n",
       "          s.onerror = () => reject(`Error loading script: ${paths[lib]}`);\n",
       "          s.src = paths[lib];\n",
       "        });\n",
       "    }\n",
       "\n",
       "    function showError(err) {\n",
       "      outputDiv.innerHTML = `<div class=\"error\" style=\"color:red;\">${err}</div>`;\n",
       "      throw err;\n",
       "    }\n",
       "\n",
       "    function displayChart(vegaEmbed) {\n",
       "      vegaEmbed(outputDiv, spec, embedOpt)\n",
       "        .catch(err => showError(`Javascript Error: ${err.message}<br>This usually means there's a typo in your chart specification. See the javascript console for the full traceback.`));\n",
       "    }\n",
       "\n",
       "    if(typeof define === \"function\" && define.amd) {\n",
       "      requirejs.config({paths});\n",
       "      require([\"vega-embed\"], displayChart, err => showError(`Error loading script: ${err.message}`));\n",
       "    } else {\n",
       "      maybeLoadScript(\"vega\", \"5\")\n",
       "        .then(() => maybeLoadScript(\"vega-lite\", \"4.17.0\"))\n",
       "        .then(() => maybeLoadScript(\"vega-embed\", \"6\"))\n",
       "        .catch(showError)\n",
       "        .then(() => displayChart(vegaEmbed));\n",
       "    }\n",
       "  })({\"config\": {\"view\": {\"continuousWidth\": 400, \"continuousHeight\": 300}}, \"data\": {\"name\": \"data-50e96e1f3aeaf932a199978d943a54fe\"}, \"mark\": {\"type\": \"bar\", \"color\": \"#ff0000\", \"size\": 14}, \"encoding\": {\"color\": {\"field\": \"categorie\", \"type\": \"nominal\"}, \"x\": {\"axis\": {\"labelAngle\": -90}, \"field\": \"volume\", \"type\": \"quantitative\"}, \"y\": {\"field\": \"categorie\", \"sort\": {\"field\": \"categorie\", \"op\": \"count\", \"order\": \"ascending\"}, \"type\": \"nominal\"}}, \"height\": 400, \"title\": \"Volume de contribution par cat\\u00e9gorie\", \"width\": 800, \"$schema\": \"https://vega.github.io/schema/vega-lite/v4.17.0.json\", \"datasets\": {\"data-50e96e1f3aeaf932a199978d943a54fe\": [{\"categorie\": \"Finances publiques & fiscalit\\u00e9\", \"volume\": 105}, {\"categorie\": \"Non cat\\u00e9goris\\u00e9e\", \"volume\": 34}, {\"categorie\": \"Environnement, agriculture et mer\", \"volume\": 20}, {\"categorie\": \"Sant\\u00e9\", \"volume\": 18}, {\"categorie\": \"Coh\\u00e9sion sociale, int\\u00e9gration et lutte contre l\\u2019exclusion\", \"volume\": 17}, {\"categorie\": \"\\u00c9conomie & entreprises\", \"volume\": 16}, {\"categorie\": \"S\\u00e9curit\\u00e9 sociale\", \"volume\": 15}, {\"categorie\": \"Justice\", \"volume\": 13}, {\"categorie\": \"Transports\", \"volume\": 12}, {\"categorie\": \"Enseignement scolaire\", \"volume\": 12}, {\"categorie\": \"Enseignement sup\\u00e9rieur & recherche\", \"volume\": 12}, {\"categorie\": \"\\u00c9nergie\", \"volume\": 9}, {\"categorie\": \"Culture & communication\", \"volume\": 8}, {\"categorie\": \"Handicap & d\\u00e9pendance\", \"volume\": 8}, {\"categorie\": \"S\\u00e9curit\\u00e9 int\\u00e9rieure\", \"volume\": 8}, {\"categorie\": \"Emploi & formation professionnelle\", \"volume\": 7}, {\"categorie\": \"Logement\", \"volume\": 6}, {\"categorie\": \"Famille\", \"volume\": 5}, {\"categorie\": \"D\\u00e9fense\", \"volume\": 5}, {\"categorie\": \"Outre-mer\", \"volume\": 2}, {\"categorie\": \"Jeunesse & sports\", \"volume\": 1}]}}, {\"mode\": \"vega-lite\"});\n",
       "</script>"
      ],
      "text/plain": [
       "alt.Chart(...)"
      ]
     },
     "execution_count": 7,
     "metadata": {},
     "output_type": "execute_result"
    }
   ],
   "source": [
    "df = raw_data[\"categorie\"].value_counts(sort = True)\\\n",
    "                          .rename_axis('categorie')\\\n",
    "                          .reset_index(name = 'volume')\n",
    "\n",
    "bars = alt.Chart(df).mark_bar(color = '#ff0000', size = 14).encode(\n",
    "   alt.X('volume:Q', axis = alt.Axis(labelAngle=-90)),\n",
    "   alt.Y('categorie:N', sort = alt.EncodingSortField(field = \"categorie\", \n",
    "                                                  op = \"count\", \n",
    "                                                  order = 'ascending')),color = 'categorie:N')\n",
    "(bars).properties(height = 400, width = 800,\n",
    "                  title = \"Volume de contribution par catégorie\")"
   ]
  },
  {
   "cell_type": "code",
   "execution_count": 8,
   "id": "b08e7e09-de65-4e15-b1aa-a8db53ec3353",
   "metadata": {
    "tags": []
   },
   "outputs": [
    {
     "data": {
      "text/html": [
       "\n",
       "<div id=\"altair-viz-9d21b0be9b2b472ba5efe8ec1a244f86\"></div>\n",
       "<script type=\"text/javascript\">\n",
       "  var VEGA_DEBUG = (typeof VEGA_DEBUG == \"undefined\") ? {} : VEGA_DEBUG;\n",
       "  (function(spec, embedOpt){\n",
       "    let outputDiv = document.currentScript.previousElementSibling;\n",
       "    if (outputDiv.id !== \"altair-viz-9d21b0be9b2b472ba5efe8ec1a244f86\") {\n",
       "      outputDiv = document.getElementById(\"altair-viz-9d21b0be9b2b472ba5efe8ec1a244f86\");\n",
       "    }\n",
       "    const paths = {\n",
       "      \"vega\": \"https://cdn.jsdelivr.net/npm//vega@5?noext\",\n",
       "      \"vega-lib\": \"https://cdn.jsdelivr.net/npm//vega-lib?noext\",\n",
       "      \"vega-lite\": \"https://cdn.jsdelivr.net/npm//vega-lite@4.17.0?noext\",\n",
       "      \"vega-embed\": \"https://cdn.jsdelivr.net/npm//vega-embed@6?noext\",\n",
       "    };\n",
       "\n",
       "    function maybeLoadScript(lib, version) {\n",
       "      var key = `${lib.replace(\"-\", \"\")}_version`;\n",
       "      return (VEGA_DEBUG[key] == version) ?\n",
       "        Promise.resolve(paths[lib]) :\n",
       "        new Promise(function(resolve, reject) {\n",
       "          var s = document.createElement('script');\n",
       "          document.getElementsByTagName(\"head\")[0].appendChild(s);\n",
       "          s.async = true;\n",
       "          s.onload = () => {\n",
       "            VEGA_DEBUG[key] = version;\n",
       "            return resolve(paths[lib]);\n",
       "          };\n",
       "          s.onerror = () => reject(`Error loading script: ${paths[lib]}`);\n",
       "          s.src = paths[lib];\n",
       "        });\n",
       "    }\n",
       "\n",
       "    function showError(err) {\n",
       "      outputDiv.innerHTML = `<div class=\"error\" style=\"color:red;\">${err}</div>`;\n",
       "      throw err;\n",
       "    }\n",
       "\n",
       "    function displayChart(vegaEmbed) {\n",
       "      vegaEmbed(outputDiv, spec, embedOpt)\n",
       "        .catch(err => showError(`Javascript Error: ${err.message}<br>This usually means there's a typo in your chart specification. See the javascript console for the full traceback.`));\n",
       "    }\n",
       "\n",
       "    if(typeof define === \"function\" && define.amd) {\n",
       "      requirejs.config({paths});\n",
       "      require([\"vega-embed\"], displayChart, err => showError(`Error loading script: ${err.message}`));\n",
       "    } else {\n",
       "      maybeLoadScript(\"vega\", \"5\")\n",
       "        .then(() => maybeLoadScript(\"vega-lite\", \"4.17.0\"))\n",
       "        .then(() => maybeLoadScript(\"vega-embed\", \"6\"))\n",
       "        .catch(showError)\n",
       "        .then(() => displayChart(vegaEmbed));\n",
       "    }\n",
       "  })({\"config\": {\"view\": {\"continuousWidth\": 400, \"continuousHeight\": 300}}, \"data\": {\"name\": \"data-b19bcac42ba3f3e7a466c121f4377974\"}, \"mark\": {\"type\": \"bar\", \"color\": \"#ff0000\", \"size\": 14}, \"encoding\": {\"color\": {\"field\": \"categorie\", \"type\": \"nominal\"}, \"x\": {\"axis\": {\"format\": \"%\"}, \"field\": \"pourcentage\", \"type\": \"quantitative\"}, \"y\": {\"field\": \"categorie\", \"sort\": {\"field\": \"categorie\", \"op\": \"count\", \"order\": \"ascending\"}, \"type\": \"nominal\"}}, \"height\": 400, \"title\": \"Pourcentage de contribution par cat\\u00e9gorie\", \"width\": 800, \"$schema\": \"https://vega.github.io/schema/vega-lite/v4.17.0.json\", \"datasets\": {\"data-b19bcac42ba3f3e7a466c121f4377974\": [{\"categorie\": \"Finances publiques & fiscalit\\u00e9\", \"pourcentage\": 0.3153153153153153}, {\"categorie\": \"Non cat\\u00e9goris\\u00e9e\", \"pourcentage\": 0.1021021021021021}, {\"categorie\": \"Environnement, agriculture et mer\", \"pourcentage\": 0.06006006006006006}, {\"categorie\": \"Sant\\u00e9\", \"pourcentage\": 0.05405405405405406}, {\"categorie\": \"Coh\\u00e9sion sociale, int\\u00e9gration et lutte contre l\\u2019exclusion\", \"pourcentage\": 0.05105105105105105}, {\"categorie\": \"\\u00c9conomie & entreprises\", \"pourcentage\": 0.04804804804804805}, {\"categorie\": \"S\\u00e9curit\\u00e9 sociale\", \"pourcentage\": 0.04504504504504504}, {\"categorie\": \"Justice\", \"pourcentage\": 0.03903903903903904}, {\"categorie\": \"Transports\", \"pourcentage\": 0.036036036036036036}, {\"categorie\": \"Enseignement scolaire\", \"pourcentage\": 0.036036036036036036}, {\"categorie\": \"Enseignement sup\\u00e9rieur & recherche\", \"pourcentage\": 0.036036036036036036}, {\"categorie\": \"\\u00c9nergie\", \"pourcentage\": 0.02702702702702703}, {\"categorie\": \"Culture & communication\", \"pourcentage\": 0.024024024024024024}, {\"categorie\": \"Handicap & d\\u00e9pendance\", \"pourcentage\": 0.024024024024024024}, {\"categorie\": \"S\\u00e9curit\\u00e9 int\\u00e9rieure\", \"pourcentage\": 0.024024024024024024}, {\"categorie\": \"Emploi & formation professionnelle\", \"pourcentage\": 0.021021021021021023}, {\"categorie\": \"Logement\", \"pourcentage\": 0.018018018018018018}, {\"categorie\": \"Famille\", \"pourcentage\": 0.015015015015015015}, {\"categorie\": \"D\\u00e9fense\", \"pourcentage\": 0.015015015015015015}, {\"categorie\": \"Outre-mer\", \"pourcentage\": 0.006006006006006006}, {\"categorie\": \"Jeunesse & sports\", \"pourcentage\": 0.003003003003003003}]}}, {\"mode\": \"vega-lite\"});\n",
       "</script>"
      ],
      "text/plain": [
       "alt.Chart(...)"
      ]
     },
     "execution_count": 8,
     "metadata": {},
     "output_type": "execute_result"
    }
   ],
   "source": [
    "df = raw_data[\"categorie\"].value_counts(normalize = True, sort = True).rename_axis('categorie').reset_index(name = 'pourcentage')\n",
    "\n",
    "bars = alt.Chart(df).mark_bar(color = '#ff0000', size = 14).encode(\n",
    "   alt.X('pourcentage:Q',  axis = alt.Axis(format ='%')),\n",
    "   alt.Y('categorie:N', sort = alt.EncodingSortField(field = \"categorie\", \n",
    "                                                  op = \"count\", \n",
    "                                                  order = 'ascending')),color = 'categorie:N')\n",
    "(bars).properties(height = 400, width = 800,\n",
    "                  title = \"Pourcentage de contribution par catégorie\")"
   ]
  },
  {
   "cell_type": "markdown",
   "id": "bf02b5d4-fff9-48c7-86ed-79dd92195ee8",
   "metadata": {},
   "source": [
    " Commentaire \n",
    " - Thématique des \"finances publiques et fiscalité\" qui a généré le plus de contributions.\n",
    " - Dispersion des autres catégories avec seulement 8% des contributions pour l'environnement"
   ]
  },
  {
   "cell_type": "code",
   "execution_count": 9,
   "id": "56f11055-4149-49d8-9810-c5b704d28efd",
   "metadata": {},
   "outputs": [
    {
     "data": {
      "text/html": [
       "\n",
       "<div id=\"altair-viz-58b7e914d4ca47aab6862fb25ada8e53\"></div>\n",
       "<script type=\"text/javascript\">\n",
       "  var VEGA_DEBUG = (typeof VEGA_DEBUG == \"undefined\") ? {} : VEGA_DEBUG;\n",
       "  (function(spec, embedOpt){\n",
       "    let outputDiv = document.currentScript.previousElementSibling;\n",
       "    if (outputDiv.id !== \"altair-viz-58b7e914d4ca47aab6862fb25ada8e53\") {\n",
       "      outputDiv = document.getElementById(\"altair-viz-58b7e914d4ca47aab6862fb25ada8e53\");\n",
       "    }\n",
       "    const paths = {\n",
       "      \"vega\": \"https://cdn.jsdelivr.net/npm//vega@5?noext\",\n",
       "      \"vega-lib\": \"https://cdn.jsdelivr.net/npm//vega-lib?noext\",\n",
       "      \"vega-lite\": \"https://cdn.jsdelivr.net/npm//vega-lite@4.17.0?noext\",\n",
       "      \"vega-embed\": \"https://cdn.jsdelivr.net/npm//vega-embed@6?noext\",\n",
       "    };\n",
       "\n",
       "    function maybeLoadScript(lib, version) {\n",
       "      var key = `${lib.replace(\"-\", \"\")}_version`;\n",
       "      return (VEGA_DEBUG[key] == version) ?\n",
       "        Promise.resolve(paths[lib]) :\n",
       "        new Promise(function(resolve, reject) {\n",
       "          var s = document.createElement('script');\n",
       "          document.getElementsByTagName(\"head\")[0].appendChild(s);\n",
       "          s.async = true;\n",
       "          s.onload = () => {\n",
       "            VEGA_DEBUG[key] = version;\n",
       "            return resolve(paths[lib]);\n",
       "          };\n",
       "          s.onerror = () => reject(`Error loading script: ${paths[lib]}`);\n",
       "          s.src = paths[lib];\n",
       "        });\n",
       "    }\n",
       "\n",
       "    function showError(err) {\n",
       "      outputDiv.innerHTML = `<div class=\"error\" style=\"color:red;\">${err}</div>`;\n",
       "      throw err;\n",
       "    }\n",
       "\n",
       "    function displayChart(vegaEmbed) {\n",
       "      vegaEmbed(outputDiv, spec, embedOpt)\n",
       "        .catch(err => showError(`Javascript Error: ${err.message}<br>This usually means there's a typo in your chart specification. See the javascript console for the full traceback.`));\n",
       "    }\n",
       "\n",
       "    if(typeof define === \"function\" && define.amd) {\n",
       "      requirejs.config({paths});\n",
       "      require([\"vega-embed\"], displayChart, err => showError(`Error loading script: ${err.message}`));\n",
       "    } else {\n",
       "      maybeLoadScript(\"vega\", \"5\")\n",
       "        .then(() => maybeLoadScript(\"vega-lite\", \"4.17.0\"))\n",
       "        .then(() => maybeLoadScript(\"vega-embed\", \"6\"))\n",
       "        .catch(showError)\n",
       "        .then(() => displayChart(vegaEmbed));\n",
       "    }\n",
       "  })({\"config\": {\"view\": {\"continuousWidth\": 400, \"continuousHeight\": 300}}, \"data\": {\"name\": \"data-9c5c4715b7c8dc68959ccb2b6c18b0ac\"}, \"mark\": {\"type\": \"bar\", \"color\": \"#ff0000\", \"size\": 14}, \"encoding\": {\"color\": {\"field\": \"categorie\", \"type\": \"nominal\"}, \"x\": {\"axis\": {\"labelAngle\": -90}, \"field\": \"nombre_de_commentaires\", \"type\": \"quantitative\"}, \"y\": {\"field\": \"categorie\", \"sort\": {\"field\": \"categorie\", \"op\": \"count\", \"order\": \"ascending\"}, \"type\": \"nominal\"}}, \"height\": 400, \"title\": \"Nombre de commentaires par cat\\u00e9gorie\", \"width\": 800, \"$schema\": \"https://vega.github.io/schema/vega-lite/v4.17.0.json\", \"datasets\": {\"data-9c5c4715b7c8dc68959ccb2b6c18b0ac\": [{\"categorie\": \"Finances publiques & fiscalit\\u00e9\", \"nombre_de_commentaires\": 361}, {\"categorie\": \"Environnement, agriculture et mer\", \"nombre_de_commentaires\": 250}, {\"categorie\": \"Transports\", \"nombre_de_commentaires\": 133}, {\"categorie\": \"\\u00c9nergie\", \"nombre_de_commentaires\": 87}, {\"categorie\": \"Non cat\\u00e9goris\\u00e9e\", \"nombre_de_commentaires\": 74}, {\"categorie\": \"S\\u00e9curit\\u00e9 sociale\", \"nombre_de_commentaires\": 61}, {\"categorie\": \"Coh\\u00e9sion sociale, int\\u00e9gration et lutte contre l\\u2019exclusion\", \"nombre_de_commentaires\": 52}, {\"categorie\": \"\\u00c9conomie & entreprises\", \"nombre_de_commentaires\": 42}, {\"categorie\": \"Enseignement scolaire\", \"nombre_de_commentaires\": 40}, {\"categorie\": \"Culture & communication\", \"nombre_de_commentaires\": 38}, {\"categorie\": \"Famille\", \"nombre_de_commentaires\": 35}, {\"categorie\": \"Handicap & d\\u00e9pendance\", \"nombre_de_commentaires\": 25}, {\"categorie\": \"Sant\\u00e9\", \"nombre_de_commentaires\": 19}, {\"categorie\": \"Enseignement sup\\u00e9rieur & recherche\", \"nombre_de_commentaires\": 15}, {\"categorie\": \"Justice\", \"nombre_de_commentaires\": 13}, {\"categorie\": \"Emploi & formation professionnelle\", \"nombre_de_commentaires\": 8}, {\"categorie\": \"Logement\", \"nombre_de_commentaires\": 6}, {\"categorie\": \"S\\u00e9curit\\u00e9 int\\u00e9rieure\", \"nombre_de_commentaires\": 1}, {\"categorie\": \"Outre-mer\", \"nombre_de_commentaires\": 0}, {\"categorie\": \"D\\u00e9fense\", \"nombre_de_commentaires\": 0}, {\"categorie\": \"Jeunesse & sports\", \"nombre_de_commentaires\": 0}]}}, {\"mode\": \"vega-lite\"});\n",
       "</script>"
      ],
      "text/plain": [
       "alt.Chart(...)"
      ]
     },
     "execution_count": 9,
     "metadata": {},
     "output_type": "execute_result"
    }
   ],
   "source": [
    "df = (raw_data.groupby('categorie', as_index ='false')\n",
    "        .agg({\"nombre_de_commentaires\": \"sum\"})\n",
    "        .reset_index()\n",
    "        .sort_values(by = ['nombre_de_commentaires'], ascending = False))\n",
    "\n",
    "# utilisation de la librairie de dataviz altair\n",
    "bars = alt.Chart(df).mark_bar(color = '#ff0000', size = 14).encode(\n",
    "   alt.X('nombre_de_commentaires:Q', axis = alt.Axis(labelAngle = -90)),\n",
    "   alt.Y('categorie:N', sort = alt.EncodingSortField(field = \"categorie\", \n",
    "                                                  op = \"count\", \n",
    "                                                  order = 'ascending')),color = 'categorie:N')\n",
    "(bars).properties(height = 400, width = 800,\n",
    "                  title = \"Nombre de commentaires par catégorie\")"
   ]
  },
  {
   "cell_type": "markdown",
   "id": "c6cceef9-0c27-4f23-9e12-c64ff3bb7755",
   "metadata": {},
   "source": [
    " - Commentaire\n",
    "   - sujet \"finances publiques et fiscalité\" est la thématique qui a généré le plus de commentaires,\n",
    "   - la thématique de l'environnement arrive en seconde position suivi des transports puis de l'énergie\n",
    "   - faibles niveaux d'intérêt pour des thématiques telles que la justice, la défense ou la sécurité intérieure."
   ]
  },
  {
   "cell_type": "code",
   "execution_count": 10,
   "id": "c604f72a-f56c-45de-be27-ed4080143b34",
   "metadata": {
    "tags": []
   },
   "outputs": [
    {
     "data": {
      "text/html": [
       "\n",
       "<div id=\"altair-viz-2e03c610536549469a9f0ffe450ff996\"></div>\n",
       "<script type=\"text/javascript\">\n",
       "  var VEGA_DEBUG = (typeof VEGA_DEBUG == \"undefined\") ? {} : VEGA_DEBUG;\n",
       "  (function(spec, embedOpt){\n",
       "    let outputDiv = document.currentScript.previousElementSibling;\n",
       "    if (outputDiv.id !== \"altair-viz-2e03c610536549469a9f0ffe450ff996\") {\n",
       "      outputDiv = document.getElementById(\"altair-viz-2e03c610536549469a9f0ffe450ff996\");\n",
       "    }\n",
       "    const paths = {\n",
       "      \"vega\": \"https://cdn.jsdelivr.net/npm//vega@5?noext\",\n",
       "      \"vega-lib\": \"https://cdn.jsdelivr.net/npm//vega-lib?noext\",\n",
       "      \"vega-lite\": \"https://cdn.jsdelivr.net/npm//vega-lite@4.17.0?noext\",\n",
       "      \"vega-embed\": \"https://cdn.jsdelivr.net/npm//vega-embed@6?noext\",\n",
       "    };\n",
       "\n",
       "    function maybeLoadScript(lib, version) {\n",
       "      var key = `${lib.replace(\"-\", \"\")}_version`;\n",
       "      return (VEGA_DEBUG[key] == version) ?\n",
       "        Promise.resolve(paths[lib]) :\n",
       "        new Promise(function(resolve, reject) {\n",
       "          var s = document.createElement('script');\n",
       "          document.getElementsByTagName(\"head\")[0].appendChild(s);\n",
       "          s.async = true;\n",
       "          s.onload = () => {\n",
       "            VEGA_DEBUG[key] = version;\n",
       "            return resolve(paths[lib]);\n",
       "          };\n",
       "          s.onerror = () => reject(`Error loading script: ${paths[lib]}`);\n",
       "          s.src = paths[lib];\n",
       "        });\n",
       "    }\n",
       "\n",
       "    function showError(err) {\n",
       "      outputDiv.innerHTML = `<div class=\"error\" style=\"color:red;\">${err}</div>`;\n",
       "      throw err;\n",
       "    }\n",
       "\n",
       "    function displayChart(vegaEmbed) {\n",
       "      vegaEmbed(outputDiv, spec, embedOpt)\n",
       "        .catch(err => showError(`Javascript Error: ${err.message}<br>This usually means there's a typo in your chart specification. See the javascript console for the full traceback.`));\n",
       "    }\n",
       "\n",
       "    if(typeof define === \"function\" && define.amd) {\n",
       "      requirejs.config({paths});\n",
       "      require([\"vega-embed\"], displayChart, err => showError(`Error loading script: ${err.message}`));\n",
       "    } else {\n",
       "      maybeLoadScript(\"vega\", \"5\")\n",
       "        .then(() => maybeLoadScript(\"vega-lite\", \"4.17.0\"))\n",
       "        .then(() => maybeLoadScript(\"vega-embed\", \"6\"))\n",
       "        .catch(showError)\n",
       "        .then(() => displayChart(vegaEmbed));\n",
       "    }\n",
       "  })({\"config\": {\"view\": {\"continuousWidth\": 400, \"continuousHeight\": 300}}, \"data\": {\"name\": \"data-286d08cf1d77d1d888591cc7b1e14ddd\"}, \"mark\": {\"type\": \"bar\", \"color\": \"#ff0000\", \"size\": 14}, \"encoding\": {\"color\": {\"field\": \"categorie\", \"type\": \"nominal\"}, \"x\": {\"axis\": {\"labelAngle\": -90}, \"field\": \"nombre_de_soutiens\", \"type\": \"quantitative\"}, \"y\": {\"field\": \"categorie\", \"sort\": {\"field\": \"categorie\", \"op\": \"count\", \"order\": \"ascending\"}, \"type\": \"nominal\"}}, \"height\": 400, \"title\": \"Nombre de soutiens par cat\\u00e9gorie\", \"width\": 800, \"$schema\": \"https://vega.github.io/schema/vega-lite/v4.17.0.json\", \"datasets\": {\"data-286d08cf1d77d1d888591cc7b1e14ddd\": [{\"categorie\": \"Finances publiques & fiscalit\\u00e9\", \"nombre_de_soutiens\": 3677}, {\"categorie\": \"Environnement, agriculture et mer\", \"nombre_de_soutiens\": 3544}, {\"categorie\": \"Transports\", \"nombre_de_soutiens\": 1472}, {\"categorie\": \"\\u00c9nergie\", \"nombre_de_soutiens\": 933}, {\"categorie\": \"Coh\\u00e9sion sociale, int\\u00e9gration et lutte contre l\\u2019exclusion\", \"nombre_de_soutiens\": 547}, {\"categorie\": \"\\u00c9conomie & entreprises\", \"nombre_de_soutiens\": 509}, {\"categorie\": \"S\\u00e9curit\\u00e9 sociale\", \"nombre_de_soutiens\": 489}, {\"categorie\": \"Culture & communication\", \"nombre_de_soutiens\": 372}, {\"categorie\": \"Non cat\\u00e9goris\\u00e9e\", \"nombre_de_soutiens\": 370}, {\"categorie\": \"Enseignement scolaire\", \"nombre_de_soutiens\": 305}, {\"categorie\": \"Sant\\u00e9\", \"nombre_de_soutiens\": 183}, {\"categorie\": \"Enseignement sup\\u00e9rieur & recherche\", \"nombre_de_soutiens\": 131}, {\"categorie\": \"Famille\", \"nombre_de_soutiens\": 103}, {\"categorie\": \"Emploi & formation professionnelle\", \"nombre_de_soutiens\": 74}, {\"categorie\": \"Justice\", \"nombre_de_soutiens\": 68}, {\"categorie\": \"Handicap & d\\u00e9pendance\", \"nombre_de_soutiens\": 67}, {\"categorie\": \"D\\u00e9fense\", \"nombre_de_soutiens\": 22}, {\"categorie\": \"Logement\", \"nombre_de_soutiens\": 16}, {\"categorie\": \"S\\u00e9curit\\u00e9 int\\u00e9rieure\", \"nombre_de_soutiens\": 11}, {\"categorie\": \"Jeunesse & sports\", \"nombre_de_soutiens\": 2}, {\"categorie\": \"Outre-mer\", \"nombre_de_soutiens\": 1}]}}, {\"mode\": \"vega-lite\"});\n",
       "</script>"
      ],
      "text/plain": [
       "alt.Chart(...)"
      ]
     },
     "execution_count": 10,
     "metadata": {},
     "output_type": "execute_result"
    }
   ],
   "source": [
    "df = (raw_data.groupby('categorie', as_index = 'false')\n",
    "              .agg({\"nombre_de_soutiens\": \"sum\"})\n",
    "              .reset_index()\n",
    "              .sort_values(by = ['nombre_de_soutiens'], ascending = False))\n",
    "\n",
    "bars = alt.Chart(df).mark_bar(color = '#ff0000', size = 14).encode(\n",
    "   alt.X('nombre_de_soutiens:Q', axis = alt.Axis(labelAngle = -90)),\n",
    "   alt.Y('categorie:N', sort = alt.EncodingSortField(field = \"categorie\", \n",
    "                                                  op = \"count\", \n",
    "                                                  order = 'ascending')), color = 'categorie:N')\n",
    "(bars).properties(height = 400, width = 800,\n",
    "                  title = \"Nombre de soutiens par catégorie\")"
   ]
  },
  {
   "cell_type": "markdown",
   "id": "3559f9a6-386c-44f1-826f-d38aec6e5836",
   "metadata": {},
   "source": [
    " - Commentaire\n",
    "   - quasi égalité entre les deux premières thématiques au niveau des soutiens. \n",
    "   - forte attente au niveau de l'environnement (mobilisation d'un petit groupe de contributeurs?) "
   ]
  },
  {
   "cell_type": "code",
   "execution_count": 11,
   "id": "88cfe3f3-9320-47af-bdca-0e4b9b3f02da",
   "metadata": {
    "tags": []
   },
   "outputs": [
    {
     "data": {
      "text/html": [
       "\n",
       "<div id=\"altair-viz-63bc2b1cbef74476958fc27f5cb28177\"></div>\n",
       "<script type=\"text/javascript\">\n",
       "  var VEGA_DEBUG = (typeof VEGA_DEBUG == \"undefined\") ? {} : VEGA_DEBUG;\n",
       "  (function(spec, embedOpt){\n",
       "    let outputDiv = document.currentScript.previousElementSibling;\n",
       "    if (outputDiv.id !== \"altair-viz-63bc2b1cbef74476958fc27f5cb28177\") {\n",
       "      outputDiv = document.getElementById(\"altair-viz-63bc2b1cbef74476958fc27f5cb28177\");\n",
       "    }\n",
       "    const paths = {\n",
       "      \"vega\": \"https://cdn.jsdelivr.net/npm//vega@5?noext\",\n",
       "      \"vega-lib\": \"https://cdn.jsdelivr.net/npm//vega-lib?noext\",\n",
       "      \"vega-lite\": \"https://cdn.jsdelivr.net/npm//vega-lite@4.17.0?noext\",\n",
       "      \"vega-embed\": \"https://cdn.jsdelivr.net/npm//vega-embed@6?noext\",\n",
       "    };\n",
       "\n",
       "    function maybeLoadScript(lib, version) {\n",
       "      var key = `${lib.replace(\"-\", \"\")}_version`;\n",
       "      return (VEGA_DEBUG[key] == version) ?\n",
       "        Promise.resolve(paths[lib]) :\n",
       "        new Promise(function(resolve, reject) {\n",
       "          var s = document.createElement('script');\n",
       "          document.getElementsByTagName(\"head\")[0].appendChild(s);\n",
       "          s.async = true;\n",
       "          s.onload = () => {\n",
       "            VEGA_DEBUG[key] = version;\n",
       "            return resolve(paths[lib]);\n",
       "          };\n",
       "          s.onerror = () => reject(`Error loading script: ${paths[lib]}`);\n",
       "          s.src = paths[lib];\n",
       "        });\n",
       "    }\n",
       "\n",
       "    function showError(err) {\n",
       "      outputDiv.innerHTML = `<div class=\"error\" style=\"color:red;\">${err}</div>`;\n",
       "      throw err;\n",
       "    }\n",
       "\n",
       "    function displayChart(vegaEmbed) {\n",
       "      vegaEmbed(outputDiv, spec, embedOpt)\n",
       "        .catch(err => showError(`Javascript Error: ${err.message}<br>This usually means there's a typo in your chart specification. See the javascript console for the full traceback.`));\n",
       "    }\n",
       "\n",
       "    if(typeof define === \"function\" && define.amd) {\n",
       "      requirejs.config({paths});\n",
       "      require([\"vega-embed\"], displayChart, err => showError(`Error loading script: ${err.message}`));\n",
       "    } else {\n",
       "      maybeLoadScript(\"vega\", \"5\")\n",
       "        .then(() => maybeLoadScript(\"vega-lite\", \"4.17.0\"))\n",
       "        .then(() => maybeLoadScript(\"vega-embed\", \"6\"))\n",
       "        .catch(showError)\n",
       "        .then(() => displayChart(vegaEmbed));\n",
       "    }\n",
       "  })({\"config\": {\"view\": {\"continuousWidth\": 400, \"continuousHeight\": 300}}, \"data\": {\"name\": \"data-c4e101c608c8a80dbdc5f0cd88a1d9bd\"}, \"mark\": {\"type\": \"bar\", \"color\": \"#ff0000\", \"size\": 14}, \"encoding\": {\"color\": {\"field\": \"categorie\", \"type\": \"nominal\"}, \"x\": {\"axis\": {\"labelAngle\": -90}, \"field\": \"nombre_abonnements\", \"type\": \"quantitative\"}, \"y\": {\"field\": \"categorie\", \"sort\": {\"field\": \"categorie\", \"op\": \"count\", \"order\": \"ascending\"}, \"type\": \"nominal\"}}, \"height\": 400, \"title\": \"Nombre d'abonnements par cat\\u00e9gorie\", \"width\": 800, \"$schema\": \"https://vega.github.io/schema/vega-lite/v4.17.0.json\", \"datasets\": {\"data-c4e101c608c8a80dbdc5f0cd88a1d9bd\": [{\"categorie\": \"Finances publiques & fiscalit\\u00e9\", \"nombre_abonnements\": 926}, {\"categorie\": \"Environnement, agriculture et mer\", \"nombre_abonnements\": 689}, {\"categorie\": \"\\u00c9nergie\", \"nombre_abonnements\": 233}, {\"categorie\": \"Transports\", \"nombre_abonnements\": 205}, {\"categorie\": \"\\u00c9conomie & entreprises\", \"nombre_abonnements\": 167}, {\"categorie\": \"Non cat\\u00e9goris\\u00e9e\", \"nombre_abonnements\": 130}, {\"categorie\": \"Coh\\u00e9sion sociale, int\\u00e9gration et lutte contre l\\u2019exclusion\", \"nombre_abonnements\": 115}, {\"categorie\": \"S\\u00e9curit\\u00e9 sociale\", \"nombre_abonnements\": 110}, {\"categorie\": \"Culture & communication\", \"nombre_abonnements\": 96}, {\"categorie\": \"Enseignement scolaire\", \"nombre_abonnements\": 93}, {\"categorie\": \"Sant\\u00e9\", \"nombre_abonnements\": 91}, {\"categorie\": \"Enseignement sup\\u00e9rieur & recherche\", \"nombre_abonnements\": 46}, {\"categorie\": \"Justice\", \"nombre_abonnements\": 41}, {\"categorie\": \"Emploi & formation professionnelle\", \"nombre_abonnements\": 35}, {\"categorie\": \"Handicap & d\\u00e9pendance\", \"nombre_abonnements\": 34}, {\"categorie\": \"Famille\", \"nombre_abonnements\": 27}, {\"categorie\": \"S\\u00e9curit\\u00e9 int\\u00e9rieure\", \"nombre_abonnements\": 16}, {\"categorie\": \"Logement\", \"nombre_abonnements\": 12}, {\"categorie\": \"D\\u00e9fense\", \"nombre_abonnements\": 11}, {\"categorie\": \"Outre-mer\", \"nombre_abonnements\": 2}, {\"categorie\": \"Jeunesse & sports\", \"nombre_abonnements\": 2}]}}, {\"mode\": \"vega-lite\"});\n",
       "</script>"
      ],
      "text/plain": [
       "alt.Chart(...)"
      ]
     },
     "execution_count": 11,
     "metadata": {},
     "output_type": "execute_result"
    }
   ],
   "source": [
    "df = (raw_data.groupby('categorie', as_index ='false')\n",
    "      .agg({\"nombre_abonnements\": \"sum\"})\n",
    "      .reset_index().\n",
    "      sort_values(by = [\"nombre_abonnements\"], ascending=False))\n",
    "\n",
    "bars = alt.Chart(df).mark_bar(color = '#ff0000', size = 14).encode(\n",
    "   alt.X(\"nombre_abonnements:Q\", axis = alt.Axis(labelAngle = -90)),\n",
    "   alt.Y('categorie:N', sort = alt.EncodingSortField(field = \"categorie\", \n",
    "                                                  op = \"count\", \n",
    "                                                  order = 'ascending')),color = 'categorie:N')\n",
    "(bars).properties(height = 400, width = 800,\n",
    "                  title = \"Nombre d'abonnements par catégorie\")"
   ]
  },
  {
   "cell_type": "markdown",
   "id": "e9d400c1-83c2-430a-ab9c-eae434bde9e9",
   "metadata": {},
   "source": [
    "Globalement la thématique des finances publiques est dominante sur l'ensemble des marqueurs (nombre de contributions, nombre d'abonnements, nombre de commentaires, nombre de soutiens). \n",
    "\n",
    "Toutefois, l'environement qui totalise seulement 8% des contributions (contre 34% pour la thématique des finances publiques) affichent les niveaux de commentaires et de soutiens quasi comparables à ceux observés pour la thématique des finances publiques."
   ]
  },
  {
   "cell_type": "markdown",
   "id": "b5ed8c5b-6623-43e1-af66-880cc4b84bd9",
   "metadata": {},
   "source": [
    "### Statistiques descriptives sur les données numériques"
   ]
  },
  {
   "cell_type": "code",
   "execution_count": 12,
   "id": "9963f28b",
   "metadata": {},
   "outputs": [
    {
     "data": {
      "text/html": [
       "<style type=\"text/css\">\n",
       "#T_9ee28_row0_col0, #T_9ee28_row0_col3, #T_9ee28_row1_col0, #T_9ee28_row1_col3, #T_9ee28_row2_col0, #T_9ee28_row2_col3, #T_9ee28_row2_col4, #T_9ee28_row2_col5, #T_9ee28_row2_col6 {\n",
       "  background-color: #fbb4ae;\n",
       "  color: #000000;\n",
       "}\n",
       "#T_9ee28_row0_col1 {\n",
       "  background-color: #f2f2f2;\n",
       "  color: #000000;\n",
       "  width: 10em;\n",
       "  background: linear-gradient(90deg, #F8766D 100.0%, transparent 100.0%);\n",
       "}\n",
       "#T_9ee28_row0_col2 {\n",
       "  background-color: #f2f2f2;\n",
       "  color: #000000;\n",
       "  width: 10em;\n",
       "  background: linear-gradient(90deg, #00BFC4 100.0%, transparent 100.0%);\n",
       "}\n",
       "#T_9ee28_row0_col4, #T_9ee28_row0_col5, #T_9ee28_row0_col6, #T_9ee28_row1_col4 {\n",
       "  background-color: #f2f2f2;\n",
       "  color: #000000;\n",
       "}\n",
       "#T_9ee28_row0_col7 {\n",
       "  background-color: #f2f2f2;\n",
       "  color: #000000;\n",
       "  width: 10em;\n",
       "  background: linear-gradient(90deg, #7CAE00 100.0%, transparent 100.0%);\n",
       "}\n",
       "#T_9ee28_row1_col1 {\n",
       "  background-color: #b3cde3;\n",
       "  color: #000000;\n",
       "  width: 10em;\n",
       "  background: linear-gradient(90deg, #F8766D 23.9%, transparent 23.9%);\n",
       "}\n",
       "#T_9ee28_row1_col2 {\n",
       "  background-color: #fbb4ae;\n",
       "  color: #000000;\n",
       "  width: 10em;\n",
       "  background: linear-gradient(90deg, #00BFC4 17.6%, transparent 17.6%);\n",
       "}\n",
       "#T_9ee28_row1_col5 {\n",
       "  background-color: #fed9a6;\n",
       "  color: #000000;\n",
       "}\n",
       "#T_9ee28_row1_col6 {\n",
       "  background-color: #ccebc5;\n",
       "  color: #000000;\n",
       "}\n",
       "#T_9ee28_row1_col7 {\n",
       "  background-color: #fbb4ae;\n",
       "  color: #000000;\n",
       "  width: 10em;\n",
       "  background: linear-gradient(90deg, #7CAE00 14.8%, transparent 14.8%);\n",
       "}\n",
       "#T_9ee28_row2_col1 {\n",
       "  background-color: #fbb4ae;\n",
       "  color: #000000;\n",
       "  width: 10em;\n",
       "  background: linear-gradient(90deg, #F8766D 9.8%, transparent 9.8%);\n",
       "}\n",
       "#T_9ee28_row2_col2 {\n",
       "  background-color: #fbb4ae;\n",
       "  color: #000000;\n",
       "  width: 10em;\n",
       "  background: linear-gradient(90deg, #00BFC4 7.7%, transparent 7.7%);\n",
       "}\n",
       "#T_9ee28_row2_col7 {\n",
       "  background-color: #fbb4ae;\n",
       "  color: #000000;\n",
       "  width: 10em;\n",
       "  background: linear-gradient(90deg, #7CAE00 6.2%, transparent 6.2%);\n",
       "}\n",
       "</style>\n",
       "<table id=\"T_9ee28\">\n",
       "  <thead>\n",
       "    <tr>\n",
       "      <th class=\"blank level0\" >&nbsp;</th>\n",
       "      <th id=\"T_9ee28_level0_col0\" class=\"col_heading level0 col0\" >count</th>\n",
       "      <th id=\"T_9ee28_level0_col1\" class=\"col_heading level0 col1\" >mean</th>\n",
       "      <th id=\"T_9ee28_level0_col2\" class=\"col_heading level0 col2\" >std</th>\n",
       "      <th id=\"T_9ee28_level0_col3\" class=\"col_heading level0 col3\" >min</th>\n",
       "      <th id=\"T_9ee28_level0_col4\" class=\"col_heading level0 col4\" >25%</th>\n",
       "      <th id=\"T_9ee28_level0_col5\" class=\"col_heading level0 col5\" >50%</th>\n",
       "      <th id=\"T_9ee28_level0_col6\" class=\"col_heading level0 col6\" >75%</th>\n",
       "      <th id=\"T_9ee28_level0_col7\" class=\"col_heading level0 col7\" >max</th>\n",
       "    </tr>\n",
       "  </thead>\n",
       "  <tbody>\n",
       "    <tr>\n",
       "      <th id=\"T_9ee28_level0_row0\" class=\"row_heading level0 row0\" >nombre_de_soutiens</th>\n",
       "      <td id=\"T_9ee28_row0_col0\" class=\"data row0 col0\" >333.000000</td>\n",
       "      <td id=\"T_9ee28_row0_col1\" class=\"data row0 col1\" >38.726727</td>\n",
       "      <td id=\"T_9ee28_row0_col2\" class=\"data row0 col2\" >156.467520</td>\n",
       "      <td id=\"T_9ee28_row0_col3\" class=\"data row0 col3\" >0.000000</td>\n",
       "      <td id=\"T_9ee28_row0_col4\" class=\"data row0 col4\" >2.000000</td>\n",
       "      <td id=\"T_9ee28_row0_col5\" class=\"data row0 col5\" >6.000000</td>\n",
       "      <td id=\"T_9ee28_row0_col6\" class=\"data row0 col6\" >16.000000</td>\n",
       "      <td id=\"T_9ee28_row0_col7\" class=\"data row0 col7\" >1825.000000</td>\n",
       "    </tr>\n",
       "    <tr>\n",
       "      <th id=\"T_9ee28_level0_row1\" class=\"row_heading level0 row1\" >nombre_abonnements</th>\n",
       "      <td id=\"T_9ee28_row1_col0\" class=\"data row1 col0\" >333.000000</td>\n",
       "      <td id=\"T_9ee28_row1_col1\" class=\"data row1 col1\" >9.252252</td>\n",
       "      <td id=\"T_9ee28_row1_col2\" class=\"data row1 col2\" >27.540704</td>\n",
       "      <td id=\"T_9ee28_row1_col3\" class=\"data row1 col3\" >0.000000</td>\n",
       "      <td id=\"T_9ee28_row1_col4\" class=\"data row1 col4\" >2.000000</td>\n",
       "      <td id=\"T_9ee28_row1_col5\" class=\"data row1 col5\" >3.000000</td>\n",
       "      <td id=\"T_9ee28_row1_col6\" class=\"data row1 col6\" >6.000000</td>\n",
       "      <td id=\"T_9ee28_row1_col7\" class=\"data row1 col7\" >271.000000</td>\n",
       "    </tr>\n",
       "    <tr>\n",
       "      <th id=\"T_9ee28_level0_row2\" class=\"row_heading level0 row2\" >nombre_de_commentaires</th>\n",
       "      <td id=\"T_9ee28_row2_col0\" class=\"data row2 col0\" >333.000000</td>\n",
       "      <td id=\"T_9ee28_row2_col1\" class=\"data row2 col1\" >3.783784</td>\n",
       "      <td id=\"T_9ee28_row2_col2\" class=\"data row2 col2\" >12.095806</td>\n",
       "      <td id=\"T_9ee28_row2_col3\" class=\"data row2 col3\" >0.000000</td>\n",
       "      <td id=\"T_9ee28_row2_col4\" class=\"data row2 col4\" >0.000000</td>\n",
       "      <td id=\"T_9ee28_row2_col5\" class=\"data row2 col5\" >0.000000</td>\n",
       "      <td id=\"T_9ee28_row2_col6\" class=\"data row2 col6\" >2.000000</td>\n",
       "      <td id=\"T_9ee28_row2_col7\" class=\"data row2 col7\" >114.000000</td>\n",
       "    </tr>\n",
       "  </tbody>\n",
       "</table>\n"
      ],
      "text/plain": [
       "<pandas.io.formats.style.Styler at 0x7fca0e704400>"
      ]
     },
     "execution_count": 12,
     "metadata": {},
     "output_type": "execute_result"
    }
   ],
   "source": [
    "# filtrage du tableau pour ne garder que les données numériques puis calcul d'indicateurs statistiques\n",
    "\n",
    "raw_data.select_dtypes(include=['int']).describe().T.sort_values(by='std' , ascending = False)\\\n",
    "                     .style.background_gradient(cmap='Pastel1')\\\n",
    "                     .bar(subset=[\"max\"], color='#7CAE00')\\\n",
    "                     .bar(subset=[\"mean\",], color='#F8766D')\\\n",
    "                     .bar(subset=[\"std\",], color='#00BFC4')   "
   ]
  },
  {
   "cell_type": "code",
   "execution_count": 13,
   "id": "801220dd-e28f-44a4-898b-a4001ad098b8",
   "metadata": {},
   "outputs": [
    {
     "data": {
      "text/html": [
       "<div>\n",
       "<style scoped>\n",
       "    .dataframe tbody tr th:only-of-type {\n",
       "        vertical-align: middle;\n",
       "    }\n",
       "\n",
       "    .dataframe tbody tr th {\n",
       "        vertical-align: top;\n",
       "    }\n",
       "\n",
       "    .dataframe thead th {\n",
       "        text-align: right;\n",
       "    }\n",
       "</style>\n",
       "<table border=\"1\" class=\"dataframe\">\n",
       "  <thead>\n",
       "    <tr style=\"text-align: right;\">\n",
       "      <th></th>\n",
       "      <th>titre</th>\n",
       "      <th>corps</th>\n",
       "      <th>nombre_de_commentaires</th>\n",
       "      <th>nombre_de_soutiens</th>\n",
       "      <th>nombre_abonnements</th>\n",
       "      <th>categorie</th>\n",
       "      <th>commentaires_associés_à_la_proposition</th>\n",
       "      <th>unnamed:_7</th>\n",
       "      <th>unnamed:_8</th>\n",
       "      <th>unnamed:_9</th>\n",
       "      <th>...</th>\n",
       "      <th>unnamed:_110</th>\n",
       "      <th>unnamed:_111</th>\n",
       "      <th>unnamed:_112</th>\n",
       "      <th>unnamed:_113</th>\n",
       "      <th>unnamed:_114</th>\n",
       "      <th>unnamed:_115</th>\n",
       "      <th>unnamed:_116</th>\n",
       "      <th>unnamed:_117</th>\n",
       "      <th>unnamed:_118</th>\n",
       "      <th>unnamed:_119</th>\n",
       "    </tr>\n",
       "  </thead>\n",
       "  <tbody>\n",
       "    <tr>\n",
       "      <th>0</th>\n",
       "      <td>Enquêter sur les moyens humains et financiers ...</td>\n",
       "      <td>À l’heure du réchauffement climatique débridé ...</td>\n",
       "      <td>97</td>\n",
       "      <td>1825</td>\n",
       "      <td>260</td>\n",
       "      <td>Environnement, agriculture et mer</td>\n",
       "      <td>Je partage ce point et ici on ne parle que d'u...</td>\n",
       "      <td>Préservons la mer qui loin de toute surveillan...</td>\n",
       "      <td>Que l'on arrête de nous mentir !! La protectio...</td>\n",
       "      <td>La protection des océans doit être notre prior...</td>\n",
       "      <td>...</td>\n",
       "      <td></td>\n",
       "      <td></td>\n",
       "      <td></td>\n",
       "      <td></td>\n",
       "      <td></td>\n",
       "      <td></td>\n",
       "      <td></td>\n",
       "      <td></td>\n",
       "      <td></td>\n",
       "      <td></td>\n",
       "    </tr>\n",
       "  </tbody>\n",
       "</table>\n",
       "<p>1 rows × 120 columns</p>\n",
       "</div>"
      ],
      "text/plain": [
       "                                               titre  \\\n",
       "0  Enquêter sur les moyens humains et financiers ...   \n",
       "\n",
       "                                               corps  nombre_de_commentaires  \\\n",
       "0  À l’heure du réchauffement climatique débridé ...                      97   \n",
       "\n",
       "   nombre_de_soutiens  nombre_abonnements                          categorie  \\\n",
       "0                1825                 260  Environnement, agriculture et mer   \n",
       "\n",
       "              commentaires_associés_à_la_proposition  \\\n",
       "0  Je partage ce point et ici on ne parle que d'u...   \n",
       "\n",
       "                                          unnamed:_7  \\\n",
       "0  Préservons la mer qui loin de toute surveillan...   \n",
       "\n",
       "                                          unnamed:_8  \\\n",
       "0  Que l'on arrête de nous mentir !! La protectio...   \n",
       "\n",
       "                                          unnamed:_9  ... unnamed:_110  \\\n",
       "0  La protection des océans doit être notre prior...  ...                \n",
       "\n",
       "  unnamed:_111 unnamed:_112 unnamed:_113 unnamed:_114 unnamed:_115  \\\n",
       "0                                                                    \n",
       "\n",
       "  unnamed:_116 unnamed:_117 unnamed:_118 unnamed:_119  \n",
       "0                                                      \n",
       "\n",
       "[1 rows x 120 columns]"
      ]
     },
     "execution_count": 13,
     "metadata": {},
     "output_type": "execute_result"
    }
   ],
   "source": [
    "# quel est le sujet qui a généré le plus de soutiens ? (thématique environnement ?)\n",
    "raw_data[raw_data['nombre_de_soutiens'] == 1825]\n",
    "# réponse oui"
   ]
  },
  {
   "cell_type": "markdown",
   "id": "e33ea900-17bc-4256-aaa0-06e005c7d6fd",
   "metadata": {},
   "source": [
    " ### Corrélation entre les métriques\n",
    "    - sans surprise corrélation positive deux à deux entre les trois métriques\n",
    "    - concernant la distribution des métriques, on note une forte déformation vers la gauche puis une longue traine"
   ]
  },
  {
   "cell_type": "code",
   "execution_count": 14,
   "id": "e2b16e63-a315-4daf-a94b-1178059cf7bc",
   "metadata": {
    "tags": []
   },
   "outputs": [
    {
     "data": {
      "text/plain": [
       "<seaborn.axisgrid.PairGrid at 0x7fca0ca83130>"
      ]
     },
     "execution_count": 14,
     "metadata": {},
     "output_type": "execute_result"
    },
    {
     "data": {
      "image/png": "[encoded data removed]",
      "text/plain": [
       "<Figure size 750x750 with 12 Axes>"
      ]
     },
     "metadata": {},
     "output_type": "display_data"
    }
   ],
   "source": [
    "pairplot = raw_data[['nombre_de_commentaires', 'nombre_de_soutiens', \"nombre_abonnements\"]]\n",
    "sns.pairplot(pairplot, palette = \"husl\")"
   ]
  },
  {
   "cell_type": "code",
   "execution_count": 15,
   "id": "7dbcdeaf-0a43-4203-8da8-5b6e721366ef",
   "metadata": {
    "tags": []
   },
   "outputs": [
    {
     "data": {
      "text/plain": [
       "<Figure size 500x500 with 0 Axes>"
      ]
     },
     "execution_count": 15,
     "metadata": {},
     "output_type": "execute_result"
    },
    {
     "data": {
      "image/png": "[encoded data removed]",
      "text/plain": [
       "<Figure size 1600x800 with 1 Axes>"
      ]
     },
     "metadata": {},
     "output_type": "display_data"
    },
    {
     "data": {
      "text/plain": [
       "<Figure size 500x500 with 0 Axes>"
      ]
     },
     "metadata": {},
     "output_type": "display_data"
    }
   ],
   "source": [
    "sns.scatterplot(x = \"nombre_de_commentaires\", \n",
    "                y = \"nombre_abonnements\", \n",
    "                data = raw_data, \n",
    "                hue = \"categorie\", \n",
    "                style = \"categorie\", \n",
    "                palette = \"Dark2\", \n",
    "                sizes = 2, \n",
    "                legend = \"full\")\n",
    "\n",
    "plt.legend([],[], frameon = False) # problème avec legend qui se superpose sur le graphique\n",
    "plt.figure(figsize = (5,5))\n",
    "\n",
    "# TO DO interactif avec sujet en légende"
   ]
  },
  {
   "cell_type": "code",
   "execution_count": 17,
   "id": "20017b3e-b862-47ca-ae06-f889d163bc0f",
   "metadata": {},
   "outputs": [],
   "source": [
    "# exportation des données \n",
    "writer = pd.ExcelWriter('raw_data.xlsx', engine = 'xlsxwriter')\n",
    "raw_data.to_excel(writer, sheet_name = 'Sheet1', index = False)\n",
    "writer.save()"
   ]
  },
  {
   "cell_type": "markdown",
   "id": "aba84ebb-32ee-4439-a652-b920259b7df6",
   "metadata": {},
   "source": [
    "## Bac à sable"
   ]
  },
  {
   "cell_type": "code",
   "execution_count": 37,
   "id": "ffb8d486-b3a6-47ed-be79-62c6bccc276f",
   "metadata": {
    "collapsed": true,
    "jupyter": {
     "outputs_hidden": true
    },
    "tags": []
   },
   "outputs": [
    {
     "data": {
      "text/plain": [
       "<Figure size 400x400 with 0 Axes>"
      ]
     },
     "execution_count": 37,
     "metadata": {},
     "output_type": "execute_result"
    },
    {
     "data": {
      "image/png": "[encoded data removed]",
      "text/plain": [
       "<Figure size 625x500 with 1 Axes>"
      ]
     },
     "metadata": {},
     "output_type": "display_data"
    },
    {
     "data": {
      "text/plain": [
       "<Figure size 400x400 with 0 Axes>"
      ]
     },
     "metadata": {},
     "output_type": "display_data"
    }
   ],
   "source": [
    "sns.displot(data = raw_data,\n",
    "            x = \"nombre_de_commentaires\", \n",
    "            bins = 15,\n",
    "            log_scale = False,\n",
    "            aspect = 1.25)\n",
    "\n",
    "plt.title(\"Distribution des commentaires\")\n",
    "plt.ticklabel_format(style ='plain', axis = 'y')\n",
    "plt.figure(figsize = (4,4))"
   ]
  },
  {
   "cell_type": "code",
   "execution_count": 33,
   "id": "8762446a-2d6d-4791-bbf4-2d9d38dd0208",
   "metadata": {
    "collapsed": true,
    "jupyter": {
     "outputs_hidden": true
    },
    "scrolled": true,
    "tags": []
   },
   "outputs": [
    {
     "data": {
      "text/plain": [
       "<Figure size 400x400 with 0 Axes>"
      ]
     },
     "execution_count": 33,
     "metadata": {},
     "output_type": "execute_result"
    },
    {
     "data": {
      "image/png": "[encoded data removed]",
      "text/plain": [
       "<Figure size 625x500 with 1 Axes>"
      ]
     },
     "metadata": {},
     "output_type": "display_data"
    },
    {
     "data": {
      "text/plain": [
       "<Figure size 400x400 with 0 Axes>"
      ]
     },
     "metadata": {},
     "output_type": "display_data"
    }
   ],
   "source": [
    "sns.displot(data = raw_data,\n",
    "            x = \"nombre_de_soutiens\", \n",
    "            bins = 15,\n",
    "            log_scale=False,\n",
    "            aspect = 1.25)\n",
    "\n",
    "plt.title(\"nombre_de_soutiens\")\n",
    "plt.ticklabel_format(style='plain', axis='y')\n",
    "plt.figure(figsize=(4,4))"
   ]
  },
  {
   "cell_type": "code",
   "execution_count": 18,
   "id": "1aa9982e-7e31-4176-9b73-00bfe4852599",
   "metadata": {},
   "outputs": [
    {
     "name": "stdout",
     "output_type": "stream",
     "text": [
      "1.5.1\n"
     ]
    }
   ],
   "source": [
    "print (pd.__version__)"
   ]
  },
  {
   "cell_type": "code",
   "execution_count": 19,
   "id": "d22ed23b-6b02-4b1e-bdfa-5fa044b03db2",
   "metadata": {},
   "outputs": [
    {
     "name": "stdout",
     "output_type": "stream",
     "text": [
      "3.1.2\n"
     ]
    }
   ],
   "source": [
    "import jinja2 as jj\n",
    "print (jj.__version__)"
   ]
  }
 ],
 "metadata": {
  "kernelspec": {
   "display_name": "Python 3 (ipykernel)",
   "language": "python",
   "name": "python3"
  },
  "language_info": {
   "codemirror_mode": {
    "name": "ipython",
    "version": 3
   },
   "file_extension": ".py",
   "mimetype": "text/x-python",
   "name": "python",
   "nbconvert_exporter": "python",
   "pygments_lexer": "ipython3",
   "version": "3.8.13"
  }
 },
 "nbformat": 4,
 "nbformat_minor": 5
}
