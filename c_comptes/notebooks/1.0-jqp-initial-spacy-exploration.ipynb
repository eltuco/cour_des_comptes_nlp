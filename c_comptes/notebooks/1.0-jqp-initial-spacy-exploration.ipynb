{
 "cells": [
  {
   "cell_type": "code",
   "execution_count": 1,
   "id": "b82d333c-7f0c-481c-b6f7-8e0fbe3ca93d",
   "metadata": {},
   "outputs": [],
   "source": [
    "import spacy\n",
    "from spacy.matcher import Matcher #class pour réalisation du matching\n",
    "from spacy.matcher import PhraseMatcher\n",
    "from spacy.language import Language\n",
    "from spacy.tokens import Span #class pour extraction des mots\n",
    "from joblib import Parallel, delayed\n",
    "from spacy.lang.fr.stop_words import STOP_WORDS\n",
    "from spacy.symbols import nsubj, VERB\n",
    "from spacy import displacy"
   ]
  },
  {
   "cell_type": "code",
   "execution_count": 5,
   "id": "c2535811-a9bb-4f26-a632-0e36e3c97154",
   "metadata": {},
   "outputs": [
    {
     "name": "stdout",
     "output_type": "stream",
     "text": [
      "3.1.4\n",
      "\n",
      "\n",
      "[('tok2vec', <spacy.pipeline.tok2vec.Tok2Vec object at 0x7fdd176f6ea0>), ('morphologizer', <spacy.pipeline.morphologizer.Morphologizer object at 0x7fdd176d84a0>), ('parser', <spacy.pipeline.dep_parser.DependencyParser object at 0x7fdd1762fee0>), ('attribute_ruler', <spacy.pipeline.attributeruler.AttributeRuler object at 0x7fdd1770b380>), ('lemmatizer', <spacy.lang.fr.lemmatizer.FrenchLemmatizer object at 0x7fdd15851180>), ('ner', <spacy.pipeline.ner.EntityRecognizer object at 0x7fdd176e0ac0>), ('sentencizer', <spacy.pipeline.sentencizer.Sentencizer object at 0x7fdd25dc1640>)]\n",
      "\n",
      "\n",
      "\u001b[1m\n",
      "============================= Pipeline Overview =============================\u001b[0m\n",
      "\n",
      "#   Component         Assigns               Requires   Scores             Retokenizes\n",
      "-   ---------------   -------------------   --------   ----------------   -----------\n",
      "0   tok2vec           doc.tensor                                          False      \n",
      "                                                                                     \n",
      "1   morphologizer     token.morph                      pos_acc            False      \n",
      "                      token.pos                        morph_acc                     \n",
      "                                                       morph_per_feat                \n",
      "                                                                                     \n",
      "2   parser            token.dep                        dep_uas            False      \n",
      "                      token.head                       dep_las                       \n",
      "                      token.is_sent_start              dep_las_per_type              \n",
      "                      doc.sents                        sents_p                       \n",
      "                                                       sents_r                       \n",
      "                                                       sents_f                       \n",
      "                                                                                     \n",
      "3   attribute_ruler                                                       False      \n",
      "                                                                                     \n",
      "4   lemmatizer        token.lemma                      lemma_acc          False      \n",
      "                                                                                     \n",
      "5   ner               doc.ents                         ents_f             False      \n",
      "                      token.ent_iob                    ents_p                        \n",
      "                      token.ent_type                   ents_r                        \n",
      "                                                       ents_per_type                 \n",
      "                                                                                     \n",
      "6   sentencizer       token.is_sent_start              sents_f            False      \n",
      "                      doc.sents                        sents_p                       \n",
      "                                                       sents_r                       \n",
      "\n",
      "\u001b[38;5;2m✔ No problems found.\u001b[0m\n",
      "No GPU found, working on CPU.\n"
     ]
    }
   ],
   "source": [
    "nlp_fr = spacy.load('fr_core_news_sm') \n",
    "\n",
    "print (spacy.__version__)\n",
    "print(\"\\n\")\n",
    "\n",
    "# customization spacy \n",
    "#nlp_fr.add_pipe(\"lemmatizer\", config = {\"mode\": \"lookup\"})\n",
    "nlp_fr.add_pipe(\"sentencizer\")\n",
    "\n",
    "nlp_fr.pipeline\n",
    "print(nlp_fr.pipeline, sep='\\n')\n",
    "print(\"\\n\")\n",
    "analysis = nlp_fr.analyze_pipes(pretty = True)\n",
    "\n",
    "if spacy.prefer_gpu():\n",
    "    print(\"Working on GPU.\")\n",
    "else:\n",
    "    print(\"No GPU found, working on CPU.\")"
   ]
  },
  {
   "cell_type": "code",
   "execution_count": 2,
   "id": "e9dde668-7c30-447b-95d1-9f1537aa5d6e",
   "metadata": {},
   "outputs": [],
   "source": [
    "import pandas as pd"
   ]
  },
  {
   "cell_type": "code",
   "execution_count": 3,
   "id": "f949cbf2-8f58-421c-919d-dccae217a0f5",
   "metadata": {},
   "outputs": [],
   "source": [
    "raw_data = pd.read_excel(r'./raw_data.xlsx', 'Sheet1')"
   ]
  },
  {
   "cell_type": "code",
   "execution_count": 4,
   "id": "b9e3f0a5-a2b8-4596-94bb-1bf1840a04b2",
   "metadata": {},
   "outputs": [],
   "source": [
    "# transformation de la structure du dataframe \n",
    "## pivot des commentaires \n",
    "mod_data = (raw_data.set_index(['titre', 'corps', 'nombre_de_commentaires', 'nombre_de_soutiens', \"nombre_abonnements\", 'categorie'])\n",
    "   .rename_axis(['drop'], axis=1)\n",
    "   .stack()\n",
    "   .reset_index())\n",
    "mod_data = mod_data.drop(['drop'], axis=1)\n",
    "mod_data = mod_data.rename(columns = {mod_data.columns[6]: \"commentaires\" })\n",
    "\n",
    "## suppression des commentaires ayant comme texte \"Pas de commentaies\"\n",
    "mod_data = mod_data[~mod_data['commentaires'].str.endswith('commentaires')]"
   ]
  },
  {
   "cell_type": "code",
   "execution_count": 6,
   "id": "2deee60e-37c9-4fcb-9725-b64e5f19848f",
   "metadata": {},
   "outputs": [
    {
     "name": "stdout",
     "output_type": "stream",
     "text": [
      "CPU times: user 32.2 s, sys: 2.28 s, total: 34.5 s\n",
      "Wall time: 35.2 s\n"
     ]
    }
   ],
   "source": [
    "%%time\n",
    "nlp_fr.max_length = 6100000\n",
    "text =  mod_data['commentaires'].values\n",
    "text = ' '.join(map(str, text))\n",
    "docs = nlp_fr(text)\n"
   ]
  },
  {
   "cell_type": "code",
   "execution_count": 7,
   "id": "098a9161-4cbc-4113-9ec6-5f7535006e49",
   "metadata": {},
   "outputs": [],
   "source": [
    "text = [token for token in docs]"
   ]
  },
  {
   "cell_type": "code",
   "execution_count": 8,
   "id": "51a6b239-ccf2-4ec7-80b3-8364ac727b43",
   "metadata": {},
   "outputs": [
    {
     "data": {
      "text/plain": [
       "{'LOC', 'MISC', 'ORG', 'PER'}"
      ]
     },
     "execution_count": 8,
     "metadata": {},
     "output_type": "execute_result"
    }
   ],
   "source": [
    "set([w.label_ for w in docs.ents])"
   ]
  },
  {
   "cell_type": "code",
   "execution_count": 10,
   "id": "7486a20e-f8bf-474d-85d1-12b11a8e3025",
   "metadata": {
    "collapsed": true,
    "jupyter": {
     "outputs_hidden": true,
     "source_hidden": true
    },
    "tags": []
   },
   "outputs": [
    {
     "data": {
      "text/plain": [
       "[('etat', 60),\n",
       " ('france', 56),\n",
       " ('la france', 45),\n",
       " ('cour', 42),\n",
       " ('bloom', 41),\n",
       " ('cour des comptes', 38),\n",
       " ('smd3', 21),\n",
       " ('bonjour', 20),\n",
       " ('grand paris', 17),\n",
       " ('caf', 16),\n",
       " ('cdc', 15),\n",
       " ('état', 13),\n",
       " ('europe', 13),\n",
       " ('français', 12),\n",
       " ('sgp', 12),\n",
       " ('paris', 12),\n",
       " ('ime', 12),\n",
       " ('allemagne', 11),\n",
       " ('ofb', 10),\n",
       " ('edf', 10),\n",
       " ('gonesse', 10),\n",
       " ('meudon', 10),\n",
       " ('ars', 10),\n",
       " ('macron', 9),\n",
       " ('saclay', 9),\n",
       " ('ugap', 9),\n",
       " ('ifrap', 9),\n",
       " ('sénat', 8),\n",
       " ('rte', 8),\n",
       " ('covid', 8),\n",
       " ('libreoffice', 8),\n",
       " ('pav', 8),\n",
       " ('at', 8),\n",
       " ('amp', 7),\n",
       " ('ca', 7),\n",
       " ('gpe', 7),\n",
       " ('gafam', 7),\n",
       " ('pnr', 7),\n",
       " ('cir', 7),\n",
       " ('cnav', 7),\n",
       " (\"l'europe\", 6),\n",
       " ('de france', 6),\n",
       " ('grand paris express', 6),\n",
       " ('tva', 6),\n",
       " ('dgfip', 6),\n",
       " ('assemblée nationale', 6),\n",
       " ('merci bloom', 5),\n",
       " ('acca', 5),\n",
       " ('rer d', 5),\n",
       " ('rer b', 5)]"
      ]
     },
     "execution_count": 10,
     "metadata": {},
     "output_type": "execute_result"
    }
   ],
   "source": [
    "from collections import Counter\n",
    "entites = [ent.text.lower() for ent in docs.ents if ent.text.lower() not in STOP_WORDS]\n",
    "entites_count = Counter(entites).most_common(50)\n",
    "entites_count"
   ]
  },
  {
   "cell_type": "code",
   "execution_count": 11,
   "id": "9eeb1ff0-ce38-4b6f-babb-7d279b0fb8c2",
   "metadata": {
    "collapsed": true,
    "jupyter": {
     "outputs_hidden": true
    },
    "tags": []
   },
   "outputs": [
    {
     "data": {
      "text/plain": [
       "[('bloom', 24),\n",
       " ('bonjour', 8),\n",
       " ('macron', 6),\n",
       " ('mc kinsey', 4),\n",
       " ('willy schraen', 4),\n",
       " ('bravo', 4),\n",
       " ('soutien', 3),\n",
       " ('merci bloom', 3),\n",
       " ('honte', 3),\n",
       " ('jean vivier', 3),\n",
       " ('fonctionnaires', 3),\n",
       " ('md€', 3),\n",
       " ('claire', 2),\n",
       " ('l’état', 2),\n",
       " ('florian', 2),\n",
       " ('ben', 2),\n",
       " ('andré mugnier', 2),\n",
       " ('le cérémé', 2),\n",
       " ('rte', 2),\n",
       " ('alain rouquier-perret', 2),\n",
       " ('premier ministre', 2),\n",
       " ('jacqueline lorthiois', 2),\n",
       " ('jacqueline', 2),\n",
       " ('dominique dufumier', 2),\n",
       " ('diminuer', 2),\n",
       " ('jean-pierre orfeuil', 2),\n",
       " ('charles prats', 2),\n",
       " ('dépenses', 2),\n",
       " ('brillants', 2),\n",
       " ('pfizer', 2),\n",
       " ('pascal richet', 2),\n",
       " ('rse', 2),\n",
       " ('h.\\n', 2),\n",
       " ('valentin haüy', 2),\n",
       " ('idem', 2),\n",
       " ('balladur', 2),\n",
       " ('chloé morin', 2),\n",
       " ('hyper', 2),\n",
       " ('proteger', 1),\n",
       " ('protéger', 1),\n",
       " ('réellement', 1),\n",
       " ('notre président', 1),\n",
       " ('première ministre', 1),\n",
       " ('yvette ramos', 1),\n",
       " ('claire nouvian', 1),\n",
       " ('demain', 1),\n",
       " ('jan onyme', 1),\n",
       " ('l’océan', 1),\n",
       " ('l’onu', 1),\n",
       " ('l’aquaculture', 1)]"
      ]
     },
     "execution_count": 11,
     "metadata": {},
     "output_type": "execute_result"
    }
   ],
   "source": [
    "entites = [ent.text.lower() for ent in docs.ents if ent.text.lower() not in STOP_WORDS and ent.label_ == \"PER\"]\n",
    "entites_count = Counter(entites).most_common(50)\n",
    "entites_count"
   ]
  },
  {
   "cell_type": "code",
   "execution_count": null,
   "id": "b3b21d94-ede5-4652-a580-117f50ad1e4e",
   "metadata": {},
   "outputs": [],
   "source": []
  },
  {
   "cell_type": "code",
   "execution_count": null,
   "id": "d9bc6697-1fff-48cc-bd88-433cfdc3514e",
   "metadata": {},
   "outputs": [],
   "source": [
    "entites = [ent.text.lower() for ent in docs.ents if ent.text.lower() not in STOP_WORDS and ent.label_ == \"MISC\"]\n",
    "entites_count = Counter(entites).most_common(50)\n",
    "entites_count"
   ]
  },
  {
   "cell_type": "code",
   "execution_count": 13,
   "id": "d310bf34-0fde-4298-8007-941c273306ba",
   "metadata": {},
   "outputs": [
    {
     "name": "stdout",
     "output_type": "stream",
     "text": [
      "6895354335150655416 Matching 276 279 Cour des Comptes\n",
      "6895354335150655416 Matching 299 302 Cour des Comptes\n",
      "6895354335150655416 Matching 822 825 Cour des comptes\n",
      "6895354335150655416 Matching 2059 2062 cour des comptes\n",
      "6895354335150655416 Matching 2658 2661 Cour des Comptes\n",
      "6895354335150655416 Matching 2915 2918 Cour des Comptes\n",
      "6895354335150655416 Matching 2935 2938 Cour des Comptes\n",
      "6895354335150655416 Matching 3887 3890 Cour des Comptes\n",
      "6895354335150655416 Matching 4702 4705 Cour des Comptes\n",
      "6895354335150655416 Matching 4988 4991 Cour des Comptes\n",
      "6895354335150655416 Matching 5019 5022 cour des comptes\n",
      "6895354335150655416 Matching 7083 7086 Cour des Comptes\n",
      "6895354335150655416 Matching 7307 7310 cour des comptes\n",
      "6895354335150655416 Matching 7478 7481 Cour des Comptes\n",
      "6895354335150655416 Matching 7547 7550 cour des comptes\n",
      "6895354335150655416 Matching 7663 7666 Cour des Comptes\n",
      "6895354335150655416 Matching 8332 8335 Cour des comptes\n",
      "6895354335150655416 Matching 12933 12936 cour des comptes\n",
      "6895354335150655416 Matching 13378 13381 Cour des comptes\n",
      "6895354335150655416 Matching 16920 16923 Cour des comptes\n",
      "6895354335150655416 Matching 19552 19555 Cour des Comptes\n",
      "6895354335150655416 Matching 19820 19823 cour des comptes\n",
      "6895354335150655416 Matching 21704 21707 cour des comptes\n",
      "6895354335150655416 Matching 23128 23131 cour des comptes\n",
      "6895354335150655416 Matching 27163 27166 Cour des comptes\n",
      "6895354335150655416 Matching 28206 28209 Cour des comptes\n",
      "6895354335150655416 Matching 28638 28641 Cour des Comptes\n",
      "6895354335150655416 Matching 28801 28804 Cour des comptes\n",
      "6895354335150655416 Matching 29777 29780 Cour des comptes\n",
      "6895354335150655416 Matching 30378 30381 Cour des comptes\n",
      "6895354335150655416 Matching 31505 31508 Cour des Comptes\n",
      "6895354335150655416 Matching 31604 31607 Cour des Comptes\n",
      "6895354335150655416 Matching 36176 36179 cour des comptes\n",
      "6895354335150655416 Matching 36307 36310 cour des comptes\n",
      "6895354335150655416 Matching 36618 36621 cour des comptes\n",
      "6895354335150655416 Matching 37203 37206 Cour des Comptes\n",
      "6895354335150655416 Matching 37483 37486 COUR des COMPTES\n",
      "6895354335150655416 Matching 37545 37548 COUR DES COMPTES\n",
      "6895354335150655416 Matching 37738 37741 cour des comptes\n",
      "6895354335150655416 Matching 37788 37791 Cour des Comptes\n",
      "6895354335150655416 Matching 37859 37862 Cour des Comptes\n",
      "6895354335150655416 Matching 37914 37917 Cour des Comptes\n",
      "6895354335150655416 Matching 37972 37975 Cour des comptes\n",
      "6895354335150655416 Matching 37998 38001 Cour des comptes\n",
      "6895354335150655416 Matching 38065 38068 Cour des comptes\n",
      "6895354335150655416 Matching 38085 38088 cour des comptes\n",
      "6895354335150655416 Matching 38790 38793 Cour des comptes\n",
      "6895354335150655416 Matching 38951 38954 Cour des Comptes\n",
      "6895354335150655416 Matching 39724 39727 Cour des comptes\n",
      "6895354335150655416 Matching 40511 40514 Cour des comptes\n",
      "6895354335150655416 Matching 40595 40598 Cour des comptes\n",
      "6895354335150655416 Matching 40663 40666 Cour des comptes\n",
      "6895354335150655416 Matching 45492 45495 Cour des Comptes\n",
      "6895354335150655416 Matching 46236 46239 Cour des comptes\n",
      "6895354335150655416 Matching 49506 49509 Cour des Comptes\n",
      "6895354335150655416 Matching 50604 50607 Cour des comptes\n",
      "6895354335150655416 Matching 51346 51349 Cour des Comptes\n",
      "6895354335150655416 Matching 52967 52970 Cour des Comptes\n",
      "6895354335150655416 Matching 53878 53881 Cour des Comptes\n",
      "6895354335150655416 Matching 54039 54042 cour des comptes\n",
      "6895354335150655416 Matching 54191 54194 cour des comptes\n",
      "6895354335150655416 Matching 54383 54386 Cour des comptes\n",
      "6895354335150655416 Matching 54438 54441 Cour des comptes\n",
      "6895354335150655416 Matching 54670 54673 cour des comptes\n",
      "6895354335150655416 Matching 55086 55089 cour des comptes\n",
      "6895354335150655416 Matching 55669 55672 Cour des Comptes\n",
      "6895354335150655416 Matching 56013 56016 Cour des comptes\n",
      "6895354335150655416 Matching 57038 57041 Cour des Comptes\n",
      "6895354335150655416 Matching 57619 57622 Cour des Comptes\n",
      "6895354335150655416 Matching 59066 59069 Cour des Comptes\n",
      "6895354335150655416 Matching 59075 59078 Cour des Comptes\n",
      "6895354335150655416 Matching 62799 62802 Cour des comptes\n",
      "6895354335150655416 Matching 67026 67029 Cour des Comptes\n",
      "6895354335150655416 Matching 67331 67334 cour des comptes\n",
      "6895354335150655416 Matching 68173 68176 Cour des Comptes\n",
      "6895354335150655416 Matching 69629 69632 Cour des comptes\n",
      "6895354335150655416 Matching 71382 71385 Cour des Comptes\n",
      "6895354335150655416 Matching 73278 73281 cour des comptes\n",
      "6895354335150655416 Matching 73307 73310 cour des comptes\n",
      "6895354335150655416 Matching 73353 73356 cour des comptes\n",
      "6895354335150655416 Matching 73382 73385 Cour des comptes\n",
      "6895354335150655416 Matching 73421 73424 Cour des comptes\n",
      "6895354335150655416 Matching 74272 74275 Cour des comptes\n",
      "6895354335150655416 Matching 74312 74315 Cour des comptes\n",
      "6895354335150655416 Matching 78915 78918 Cour des comptes\n",
      "6895354335150655416 Matching 80076 80079 cour des comptes\n",
      "6895354335150655416 Matching 83130 83133 Cour des Comptes\n",
      "6895354335150655416 Matching 84544 84547 Cour des comptes\n",
      "6895354335150655416 Matching 85445 85448 Cour des Comptes\n",
      "6895354335150655416 Matching 86624 86627 Cour des Comptes\n",
      "6895354335150655416 Matching 87772 87775 cour des comptes\n",
      "6895354335150655416 Matching 87837 87840 cour des comptes\n",
      "6895354335150655416 Matching 88083 88086 cour des comptes\n",
      "6895354335150655416 Matching 89177 89180 cour des comptes\n",
      "6895354335150655416 Matching 92472 92475 Cour des Comptes\n",
      "6895354335150655416 Matching 92645 92648 Cour des comptes\n",
      "6895354335150655416 Matching 94233 94236 Cour des Comptes\n",
      "6895354335150655416 Matching 94584 94587 Cour des Comptes\n",
      "6895354335150655416 Matching 98389 98392 cour des comptes\n",
      "6895354335150655416 Matching 98943 98946 Cour des Comptes\n"
     ]
    }
   ],
   "source": [
    "# instantiation du matcher \n",
    "matcher = Matcher(nlp_fr.vocab) \n",
    "\n",
    "# definition du pattern de recherche\n",
    "pattern = [\n",
    "    [{\"LOWER\": \"cour\"}, {\"LOWER\": \"des\"},{\"LOWER\": \"comptes\"}],\n",
    " [{\"LOWER\": \"cour\"}, {\"LOWER\": \"des\"},{\"LOWER\": \"Comptes\"}]\n",
    "]\n",
    "\n",
    "\n",
    "base_data = mod_data['commentaires'].str.strip().values\n",
    "base_data  = ' '.join(map(str, base_data ))\n",
    "\n",
    "# ajout du pattern au matcher\n",
    "matcher.add(\"Matching\", pattern)\n",
    "mod_doc = nlp_fr(base_data)\n",
    "matches = matcher(mod_doc) \n",
    "\n",
    "for match_id, start, end in matches:\n",
    "    # match_id\n",
    "    string_id = nlp_fr.vocab.strings[match_id]  \n",
    "    # position début/fin du résultat \n",
    "    span = docs[start:end] \n",
    "    print(match_id, string_id, start, end, span.text)\n",
    "    #print(span.text)"
   ]
  },
  {
   "cell_type": "code",
   "execution_count": 14,
   "id": "0e2cbae3-8758-4a83-b2c7-96c1f69dd6f4",
   "metadata": {},
   "outputs": [
    {
     "data": {
      "text/plain": [
       "[('public', 159),\n",
       " ('publics', 96),\n",
       " ('publique', 77),\n",
       " ('publiques', 70),\n",
       " ('grand', 60),\n",
       " ('nécessaire', 47),\n",
       " ('français', 45),\n",
       " ('bon', 40),\n",
       " ('grande', 40),\n",
       " ('bonne', 39),\n",
       " ('climatique', 37),\n",
       " ('écologique', 34),\n",
       " ('sociale', 32),\n",
       " ('agricoles', 32),\n",
       " ('nationale', 29),\n",
       " ('particulier', 28),\n",
       " ('économique', 28),\n",
       " ('cher', 27),\n",
       " ('efficace', 26),\n",
       " ('privés', 26)]"
      ]
     },
     "execution_count": 14,
     "metadata": {},
     "output_type": "execute_result"
    }
   ],
   "source": [
    "spacy_adj = [tok for tok in docs if tok.pos_ == 'ADJ' and not tok.is_stop and not tok.is_punct] #adjectifs\n",
    "spacy_adj_count = Counter([tok.text.lower() for tok in spacy_adj]).most_common(20)\n",
    "spacy_adj_count"
   ]
  },
  {
   "cell_type": "code",
   "execution_count": 15,
   "id": "5fc5fb2c-6723-4dc2-9d4c-2dd7f403af8e",
   "metadata": {},
   "outputs": [
    {
     "data": {
      "text/plain": [
       "[('faire', 157),\n",
       " ('faut', 134),\n",
       " ('devrait', 73),\n",
       " ('mettre', 59),\n",
       " ('pouvoir', 40),\n",
       " ('voir', 37),\n",
       " ('faudrait', 36),\n",
       " ('devraient', 35),\n",
       " ('agit', 33),\n",
       " ('demande', 31),\n",
       " ('existe', 30),\n",
       " ('savoir', 29),\n",
       " ('veut', 27),\n",
       " ('financer', 26),\n",
       " ('contrôler', 25),\n",
       " ('payer', 25),\n",
       " ('demander', 24),\n",
       " ('prendre', 24),\n",
       " ('passer', 22),\n",
       " ('donner', 21),\n",
       " ('permettre', 21),\n",
       " ('mis', 20),\n",
       " ('privée', 20),\n",
       " ('compter', 20),\n",
       " ('utilisé', 19),\n",
       " ('aller', 19),\n",
       " ('soutiens', 19),\n",
       " ('justifier', 19),\n",
       " ('gérer', 19),\n",
       " ('détruire', 19)]"
      ]
     },
     "execution_count": 15,
     "metadata": {},
     "output_type": "execute_result"
    }
   ],
   "source": [
    "spacy_verb = [tok for tok in docs if tok.pos_ == 'VERB' and not tok.is_punct and not tok.is_stop] #verbes # and not tok.is_stop\n",
    "spacy_verb_count = Counter([tok.text.strip() for tok in spacy_verb]).most_common(30)\n",
    "spacy_verb_count"
   ]
  },
  {
   "cell_type": "code",
   "execution_count": 16,
   "id": "a0105752-2bc7-4305-81e8-99cac0f7b492",
   "metadata": {},
   "outputs": [
    {
     "data": {
      "text/plain": [
       "[('argent', 199),\n",
       " ('comptes', 117),\n",
       " ('système', 101),\n",
       " ('personnes', 93),\n",
       " ('Cour', 92),\n",
       " ('chasse', 92),\n",
       " ('ans', 84),\n",
       " ('travail', 79),\n",
       " ('vie', 76),\n",
       " ('temps', 76),\n",
       " ('chasseurs', 73),\n",
       " ('état', 72),\n",
       " ('compte', 72),\n",
       " ('biodiversité', 70),\n",
       " ('service', 70),\n",
       " ('proposition', 69),\n",
       " ('exemple', 69),\n",
       " ('Etat', 68),\n",
       " ('cas', 67),\n",
       " ('services', 66),\n",
       " ('projet', 62),\n",
       " ('citoyens', 61),\n",
       " ('coût', 61),\n",
       " ('intérêt', 59),\n",
       " ('ligne', 59),\n",
       " ('utilisation', 56),\n",
       " ('terres', 56),\n",
       " ('place', 56),\n",
       " ('rapport', 56),\n",
       " ('part', 55)]"
      ]
     },
     "execution_count": 16,
     "metadata": {},
     "output_type": "execute_result"
    }
   ],
   "source": [
    "spacy_noun = [tok for tok in docs if tok.pos_ == 'NOUN' and not tok.is_punct and not tok.is_stop] #verbes # and not tok.is_stop\n",
    "spacy_noun_count = Counter([tok.text.strip() for tok in spacy_noun]).most_common(30)\n",
    "spacy_noun_count"
   ]
  },
  {
   "cell_type": "code",
   "execution_count": 19,
   "id": "9e9fd81b-2af7-4b8f-adfb-5affd7f1b682",
   "metadata": {},
   "outputs": [
    {
     "data": {
      "text/plain": [
       "[La protection des mers et des océans est une priorité absolue et la Cour des Comptes doit enquêter et informer les citoyens sur l'utilisation de ces subventions.,\n",
       " Une mission prioritaire pour la Cour des Comptes !,\n",
       " Les rapports de la Cour des Comptes sont très importants.,\n",
       " \n",
       " \n",
       " Et puisque la Cour des Comptes contrôle les comptes de l'état, pourquoi n'y aurait-il pas au sein de la Cour des Comptes une équipe chargée de contrôler l'éventuel greenwashing de l'état ?,\n",
       " Oui, que la Cour des Comptes aille regarder ça de près et fasse cesser la prédation de l'océan et des finances publiques.,\n",
       " La Cour des Comptes peut-elle mettre en cause la responsabilité du ministre et du directeur des pêches maritimes et de l'aquaculture pour que les documents réclamés par l'association BLOOM soient enfin communiqués et exploitables ?,\n",
       " Merci à Bloom d'insister en notre nom, et à la Cour des Comptes de bien vouloir exercer sa compétence.,\n",
       " je soutiens la démarche de l'association BLOOM qui est de demander à la Cour des Comptes une enquête approfondie sur l'utilisation des deniers publics dans le secteur de la pêche et la liste des bénéficiaires en France.,\n",
       " La Cour des Comptes doit coopérer et enquêter pour permettre d'obtenir es données publiques  sur la gestion des données de subventions à la pêche depuis 2007.,\n",
       " La Cour des Comptes se doit de retenir cette proposition.,\n",
       " Alain Rouquier-Perret J'ai déjà dénoncé ce scandale à la Cour des Comptes (Mme Sophie Moati) par courrier recommandé AR en avril 2020, ainsi qu'au Président de La République et son épouse, Premier Ministre (M. Edouard Philippe), Ministre de la Justice (Mme Nicole Belloubet), Ministre de la \"Transition Ecologique\" (Mme Elisabeth Borne), Ministre de la Santé (M. Olivier Veran), courrier personnalisé + résumé de 4 pages de mes recherches que ce soit sur le plan écologique et environnemental, sanitaire, juridique et financier.,\n",
       "  La Cour de Comptes m'a invitée à contacter Députés et Sénateurs et m'a dit avoir transmis mon courrier pour information à la Cour compétente (Magistrats)...,\n",
       " La Cour des Comptes est un recours précieux pour tenter d'obtenir une évaluation neutre et impartiale.,\n",
       " \n",
       " Comment s’étonner de la défection actuelle  vis à vis des outils ”démocratiques”, même l’avis argumenté d’un organisme indépendant comme la Cour des Comptes, reconnu pour ses compétences et son sérieux, garant de l’intérêt général lui, peut il être piétiné allègrement ?,\n",
       " Compte tenu des enjeux considérables pour les finances publiques, je demande que la Cour des Comptes passe au crible fin les pratiques d’évaluation des lignes 17 et 18 , ceci pour le bien de tous les franciliens.,\n",
       " La Cour des Comptes ne dispose hélas d'aucun moyen de coercition sur les gouvernements successifs qui se sont montré incapables de respecter la norme de 3% que la France avait fait adopter.,\n",
       " \n",
       " Toutes les dépenses de l’État devraient recevoir l'aval de la Cour des Comptes.,\n",
       " Qu'on commence par supprimer tous les avantages liés à la fonction, qu'ils prennent les transports en commun comme tout le monde, qu'ils se nourrissent chez eux, etc ... Ils sont redevables de l'argent public qu'ils dépensent sans aucune modération Je salue le travail de la Cour des Comptes.,\n",
       " \n",
       " Par dépit, j'ai surnommé le Rapport de La Cour des Comptes: le  Grand Bêtisier de la République.,\n",
       " Je pense que soumettre un contrôle des licences avec la Cour des Comptes serait une réelle plus-values pour limiter les coûts et les risques.,\n",
       " Premièrement, la Cour des Comptes dans le cadre de ce rapport ne sera pas objective, puisque sa position par rapport aux cabinets de conseils en politiques publiques est connue, de fait que son champ de compétence est proche, particulièrement à l'échelon local.,\n",
       " Il est important que la Cour des Comptes regardent de près le fonctionnement financier de la collecte des déchets mis en place par le SMD3 Le dispositif proposé imposé par le SMD3 porte préjudice au principe d''égalité.,\n",
       " \n",
       " Pour sauver nos santé et vie, la Cour des Comptes ne devrait-elle pas changer d'unité(s) de compte et mesure ?,\n",
       " Ainsi la Cour des Comptes ne doit plus ignorer les agissements de la DPMA, et se doit d'exposer les affectations budgétaires dissimulées aux contribuables.,\n",
       " Elle mérite toute l'attention de la Cour des Comptes.,\n",
       " La Cour des Comptes a déjà démontré sa capacité, sur le dossier APB, à analyser de manière fine et contradictoire les impacts des systèmes de décision automatisés sur la relation aux usagers.,\n",
       " »\n",
       " Si cela fait partie des attributions de la Cour des Comptes, lui serait-il possible de s'interroger et d'enquêter sur ce problème posé en cherchant  à qui profite la situation ?,\n",
       " Si je me souviens bien, la Cour des Comptes n'a pas de pouvoir, elle ne peut ni contraindre ni obliger, elle émet seulement un avis.,\n",
       " Pour ces seules raisons, l'utilisation des deniers publics ne nous semble pas satisfaisante et mériterait de faire l'objet d'un audit de la Cour des Comptes.,\n",
       " Pour un audit de la Cour des Comptes et non aux méthaniseurs dans une région où la production de gaz détourne la vocation alimentaire  de l'agriculture.,\n",
       " Malheureusement, la Cour des Comptes a souvent fustigé le système actuel qui ne permet même pas à l'Etat de savoir ce qu'il a distribué et à qui il l'a fait mais qu'est-ce qui a changé ensuite ?,\n",
       " \n",
       " D'ailleurs la Cour des Comptes dénonce depuis des années des tas de choses sans aucune réaction par ceux qui sont pointés du doigt.,\n",
       " Enfin, la Cour des Comptes appréciera à sa juste valeur le fait que cette exploitation indirecte du handicap est réalisée en ponctionnant (si besoin, de force) le contribuable, qui généralement ne se doute de rien de tout cela et qui souvent croit même que ces établissements sont une bonne chose, habitué qu'il est à concevoir la place des handicapés \"dans des endroits faits pour eux\".,\n",
       " La liberté de disposer de son corps a été bafouée et même le conseil constitutionnel a considéré que devoir présenter un QR code pour les actes les plus courant de l existence était conforme à notre constitution, quelle solution proposer fin que cela ne se reproduise pas Quoiqu'important, le sujet du consentement préalable des individus à un acte médical sur leur personne ou celle de leurs enfants ne relève pas de la Cour des Comptes.,\n",
       " \n",
       " Sauf erreur, \n",
       " Il serait utile que la Cour des Comptes émette en 2022 un nouvel état des lieux sur Qui paye Quoi ?,\n",
       " On se demande réellement ce qu'attendent les partenaires sociaux et les parlementaires pour mettre en conformité les régimes de retraites français au droit européens : Merci à la Cour des Comptes de les former.,\n",
       " La Cour des Comptes n'a effectivement pas grand chose à contrôler envers l'Ifrap.,\n",
       " \n",
       " A la Cour des Comptes d'agir !,\n",
       " Cour des Comptes du 21/10/2021 =>,\n",
       " \n",
       " Donc la Cour de Comptes comme les autres doit voir son travail valorisé et donc justifié en rendant des comptes:  660 000€ par controle de la Cour,\n",
       " Si la Cour des Comptes pouvait aider a réduire les doutes, cela permettrait de mieux comparer la valeur/couts.]"
      ]
     },
     "execution_count": 19,
     "metadata": {},
     "output_type": "execute_result"
    }
   ],
   "source": [
    "cc_sentences = [sent for sent in docs.sents if 'Comptes' in sent.text]\n",
    "cc_sentences "
   ]
  },
  {
   "cell_type": "code",
   "execution_count": 22,
   "id": "6622064e-7634-4146-92fd-004670d0cc85",
   "metadata": {},
   "outputs": [],
   "source": [
    "def adjectivesDescribingCharacters(text, character):\n",
    "    sents = [sent for sent in text.sents if character in sent.text] # filtrage sur les phrases\n",
    "    adjectives = []\n",
    "    for sent in sents: \n",
    "        for word in sent: \n",
    "            if character in word.text: # filtrage sur les mots\n",
    "                for child in word.children: # filtrage sur les mots \n",
    "                    if child.pos_ == 'ADJ' and not child.is_stop :  # filtrage sur les mots #and not child.is_stop\n",
    "                        adjectives.append(child.text.strip())\n",
    "    return Counter(adjectives).most_common(10)"
   ]
  },
  {
   "cell_type": "code",
   "execution_count": 24,
   "id": "f2838bfc-4ef1-43e6-b446-7cce9dddf9cb",
   "metadata": {},
   "outputs": [
    {
     "data": {
      "text/plain": [
       "[('aille', 1)]"
      ]
     },
     "execution_count": 24,
     "metadata": {},
     "output_type": "execute_result"
    }
   ],
   "source": [
    "comptes_verbs = adjectivesDescribingCharacters(docs, 'Comptes')\n",
    "comptes_verbs "
   ]
  },
  {
   "cell_type": "code",
   "execution_count": null,
   "id": "02dad77b-66ac-429e-801d-591747308696",
   "metadata": {},
   "outputs": [],
   "source": [
    "def verbsToMatrix(verbCounts): \n",
    "    return pd.Series({t[0]: t[1] for t in verbCounts})"
   ]
  }
 ],
 "metadata": {
  "kernelspec": {
   "display_name": "Python 3",
   "language": "python",
   "name": "python3"
  },
  "language_info": {
   "codemirror_mode": {
    "name": "ipython",
    "version": 3
   },
   "file_extension": ".py",
   "mimetype": "text/x-python",
   "name": "python",
   "nbconvert_exporter": "python",
   "pygments_lexer": "ipython3",
   "version": "3.8.8"
  }
 },
 "nbformat": 4,
 "nbformat_minor": 5
}
